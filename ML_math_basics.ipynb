{
  "nbformat": 4,
  "nbformat_minor": 0,
  "metadata": {
    "colab": {
      "name": "機械学習を理解するための数学のきほん.ipynb",
      "provenance": [],
      "collapsed_sections": [],
      "toc_visible": true
    },
    "kernelspec": {
      "name": "python3",
      "display_name": "Python 3"
    }
  },
  "cells": [
    {
      "cell_type": "markdown",
      "metadata": {
        "id": "dtSEuiFpqkle",
        "colab_type": "text"
      },
      "source": [
        "# [機械学習を理解するための数学のきほん](https://book.mynavi.jp/supportsite/detail/9784839963521.html)"
      ]
    },
    {
      "cell_type": "markdown",
      "metadata": {
        "id": "E_XKl6-w2pKd",
        "colab_type": "text"
      },
      "source": [
        "## 回帰"
      ]
    },
    {
      "cell_type": "code",
      "metadata": {
        "id": "HbPpWSR2q3XV",
        "colab_type": "code",
        "colab": {}
      },
      "source": [
        "import numpy as np\n",
        "import matplotlib.pyplot as plt\n",
        "\n",
        "# 学習データを読み込む\n",
        "train = np.loadtxt('./drive/My Drive/Colab Notebooks/機械学習を理解するための数学のきほん/click.csv', delimiter=',', dtype='int', skiprows=1)\n",
        "# train = np.loadtxt('click.csv', delimiter=',', dtype='int', skiprows=1)\n",
        "train_x = train[:,0]\n",
        "train_y = train[:,1]"
      ],
      "execution_count": 0,
      "outputs": []
    },
    {
      "cell_type": "code",
      "metadata": {
        "id": "OtET7ltsseAT",
        "colab_type": "code",
        "outputId": "d313e17e-a44f-4ca8-d5aa-929112f8e276",
        "colab": {
          "base_uri": "https://localhost:8080/",
          "height": 282
        }
      },
      "source": [
        "plt.plot(train_x, train_y, \"o\")"
      ],
      "execution_count": 2,
      "outputs": [
        {
          "output_type": "execute_result",
          "data": {
            "text/plain": [
              "[<matplotlib.lines.Line2D at 0x7fae4e2436d8>]"
            ]
          },
          "metadata": {
            "tags": []
          },
          "execution_count": 2
        },
        {
          "output_type": "display_data",
          "data": {
            "image/png": "[encoded data removed]",
            "text/plain": [
              "<Figure size 432x288 with 1 Axes>"
            ]
          },
          "metadata": {
            "tags": []
          }
        }
      ]
    },
    {
      "cell_type": "code",
      "metadata": {
        "id": "4cOIMs2RudOK",
        "colab_type": "code",
        "colab": {}
      },
      "source": [
        "# パラメータを初期化\n",
        "theta0 = np.random.rand()\n",
        "theta1 = np.random.rand()"
      ],
      "execution_count": 0,
      "outputs": []
    },
    {
      "cell_type": "code",
      "metadata": {
        "id": "FSgidjStuho9",
        "colab_type": "code",
        "colab": {}
      },
      "source": [
        "# 予測関数\n",
        "def f(x):\n",
        "    return theta0 + theta1 * x"
      ],
      "execution_count": 0,
      "outputs": []
    },
    {
      "cell_type": "code",
      "metadata": {
        "id": "PaRnXb8guqXv",
        "colab_type": "code",
        "colab": {}
      },
      "source": [
        "# 目的関数\n",
        "def E(x, y):\n",
        "    return 0.5 * np.sum((y - f(x)) ** 2)"
      ],
      "execution_count": 0,
      "outputs": []
    },
    {
      "cell_type": "code",
      "metadata": {
        "id": "EmeZYdvjvU-X",
        "colab_type": "code",
        "colab": {}
      },
      "source": [
        "# 標準化\n",
        "mu = train_x.mean()\n",
        "sigma = train_x.std()\n",
        "def standardize(x):\n",
        "    return (x - mu) / sigma\n",
        "\n",
        "train_z = standardize(train_x)"
      ],
      "execution_count": 0,
      "outputs": []
    },
    {
      "cell_type": "code",
      "metadata": {
        "id": "gIZpnRXNvdXD",
        "colab_type": "code",
        "outputId": "bee37559-661b-494e-aac8-441f122cf5d7",
        "colab": {
          "base_uri": "https://localhost:8080/",
          "height": 282
        }
      },
      "source": [
        "plt.plot(train_z, train_y, \"o\")"
      ],
      "execution_count": 7,
      "outputs": [
        {
          "output_type": "execute_result",
          "data": {
            "text/plain": [
              "[<matplotlib.lines.Line2D at 0x7fae4dd8bef0>]"
            ]
          },
          "metadata": {
            "tags": []
          },
          "execution_count": 7
        },
        {
          "output_type": "display_data",
          "data": {
            "image/png": "[encoded data removed]",
            "text/plain": [
              "<Figure size 432x288 with 1 Axes>"
            ]
          },
          "metadata": {
            "tags": []
          }
        }
      ]
    },
    {
      "cell_type": "code",
      "metadata": {
        "id": "myO2Et7T2PTc",
        "colab_type": "code",
        "outputId": "60a04de2-9977-4020-cfa4-082d5f1a1a2c",
        "colab": {
          "base_uri": "https://localhost:8080/",
          "height": 1000
        }
      },
      "source": [
        "# 学習率\n",
        "ETA = 1e-3\n",
        "\n",
        "# 誤差の差分\n",
        "diff = 1\n",
        "\n",
        "# 更新回数\n",
        "count = 0\n",
        "\n",
        "# 誤差の差分が0.01以下になるまでパラメータ更新を繰り返す\n",
        "error = E(train_z, train_y)\n",
        "while diff > 1e-2:\n",
        "    # 更新結果を一時変数に保存\n",
        "    tmp_theta0 = theta0 - ETA * np.sum((f(train_z) - train_y))\n",
        "    tmp_theta1 = theta1 - ETA * np.sum((f(train_z) - train_y) * train_z)\n",
        "\n",
        "    # パラメータを更新\n",
        "    theta0 = tmp_theta0\n",
        "    theta1 = tmp_theta1\n",
        "\n",
        "    # 前回の誤差との差分を計算\n",
        "    current_error = E(train_z, train_y)\n",
        "    diff = error - current_error\n",
        "    error = current_error\n",
        "\n",
        "    # ログの出力\n",
        "    count += 1\n",
        "    log = '{}回目: theta0 = {:.3f}, theta1 = {:.3f}, 差分 = {:.4f}'\n",
        "    print(log.format(count, theta0, theta1, diff))"
      ],
      "execution_count": 8,
      "outputs": [
        {
          "output_type": "stream",
          "text": [
            "1回目: theta0 = 9.372, theta1 = 2.360, 差分 = 76081.3453\n",
            "2回目: theta0 = 17.767, theta1 = 4.183, 差分 = 73068.5240\n",
            "3回目: theta0 = 25.995, theta1 = 5.969, 差分 = 70175.0105\n",
            "4回目: theta0 = 34.058, theta1 = 7.719, 差分 = 67396.0801\n",
            "5回目: theta0 = 41.960, theta1 = 9.434, 差分 = 64727.1953\n",
            "6回目: theta0 = 49.704, theta1 = 11.115, 差分 = 62163.9984\n",
            "7回目: theta0 = 57.292, theta1 = 12.762, 差分 = 59702.3040\n",
            "8回目: theta0 = 64.730, theta1 = 14.377, 差分 = 57338.0928\n",
            "9回目: theta0 = 72.018, theta1 = 15.959, 差分 = 55067.5043\n",
            "10回目: theta0 = 79.161, theta1 = 17.509, 差分 = 52886.8311\n",
            "11回目: theta0 = 86.160, theta1 = 19.028, 差分 = 50792.5126\n",
            "12回目: theta0 = 93.020, theta1 = 20.517, 差分 = 48781.1291\n",
            "13回目: theta0 = 99.743, theta1 = 21.977, 差分 = 46849.3964\n",
            "14回目: theta0 = 106.331, theta1 = 23.407, 差分 = 44994.1603\n",
            "15回目: theta0 = 112.787, theta1 = 24.808, 差分 = 43212.3916\n",
            "16回目: theta0 = 119.115, theta1 = 26.182, 差分 = 41501.1809\n",
            "17回目: theta0 = 125.315, theta1 = 27.528, 差分 = 39857.7341\n",
            "18回目: theta0 = 131.392, theta1 = 28.847, 差分 = 38279.3678\n",
            "19回目: theta0 = 137.347, theta1 = 30.139, 差分 = 36763.5049\n",
            "20回目: theta0 = 143.183, theta1 = 31.406, 差分 = 35307.6701\n",
            "21回目: theta0 = 148.903, theta1 = 32.647, 差分 = 33909.4863\n",
            "22回目: theta0 = 154.508, theta1 = 33.864, 差分 = 32566.6707\n",
            "23回目: theta0 = 160.000, theta1 = 35.056, 差分 = 31277.0305\n",
            "24回目: theta0 = 165.383, theta1 = 36.225, 差分 = 30038.4601\n",
            "25回目: theta0 = 170.659, theta1 = 37.370, 差分 = 28848.9371\n",
            "26回目: theta0 = 175.829, theta1 = 38.492, 差分 = 27706.5192\n",
            "27回目: theta0 = 180.895, theta1 = 39.592, 差分 = 26609.3410\n",
            "28回目: theta0 = 185.860, theta1 = 40.670, 差分 = 25555.6111\n",
            "29回目: theta0 = 190.726, theta1 = 41.726, 差分 = 24543.6089\n",
            "30回目: theta0 = 195.494, theta1 = 42.761, 差分 = 23571.6820\n",
            "31回目: theta0 = 200.167, theta1 = 43.775, 差分 = 22638.2434\n",
            "32回目: theta0 = 204.747, theta1 = 44.769, 差分 = 21741.7690\n",
            "33回目: theta0 = 209.235, theta1 = 45.743, 差分 = 20880.7949\n",
            "34回目: theta0 = 213.633, theta1 = 46.698, 差分 = 20053.9154\n",
            "35回目: theta0 = 217.944, theta1 = 47.634, 差分 = 19259.7804\n",
            "36回目: theta0 = 222.168, theta1 = 48.551, 差分 = 18497.0931\n",
            "37回目: theta0 = 226.308, theta1 = 49.449, 差分 = 17764.6082\n",
            "38回目: theta0 = 230.364, theta1 = 50.330, 差分 = 17061.1297\n",
            "39回目: theta0 = 234.340, theta1 = 51.193, 差分 = 16385.5090\n",
            "40回目: theta0 = 238.236, theta1 = 52.039, 差分 = 15736.6428\n",
            "41回目: theta0 = 242.055, theta1 = 52.867, 差分 = 15113.4718\n",
            "42回目: theta0 = 245.796, theta1 = 53.680, 差分 = 14514.9783\n",
            "43回目: theta0 = 249.464, theta1 = 54.476, 差分 = 13940.1851\n",
            "44回目: theta0 = 253.057, theta1 = 55.256, 差分 = 13388.1538\n",
            "45回目: theta0 = 256.579, theta1 = 56.020, 差分 = 12857.9829\n",
            "46回目: theta0 = 260.031, theta1 = 56.769, 差分 = 12348.8068\n",
            "47回目: theta0 = 263.413, theta1 = 57.503, 差分 = 11859.7940\n",
            "48回目: theta0 = 266.728, theta1 = 58.223, 差分 = 11390.1462\n",
            "49回目: theta0 = 269.976, theta1 = 58.928, 差分 = 10939.0964\n",
            "50回目: theta0 = 273.160, theta1 = 59.619, 差分 = 10505.9082\n",
            "51回目: theta0 = 276.279, theta1 = 60.296, 差分 = 10089.8742\n",
            "52回目: theta0 = 279.337, theta1 = 60.960, 差分 = 9690.3152\n",
            "53回目: theta0 = 282.333, theta1 = 61.610, 差分 = 9306.5787\n",
            "54回目: theta0 = 285.269, theta1 = 62.248, 差分 = 8938.0382\n",
            "55回目: theta0 = 288.147, theta1 = 62.872, 差分 = 8584.0919\n",
            "56回目: theta0 = 290.967, theta1 = 63.484, 差分 = 8244.1619\n",
            "57回目: theta0 = 293.731, theta1 = 64.084, 差分 = 7917.6930\n",
            "58回目: theta0 = 296.439, theta1 = 64.672, 差分 = 7604.1524\n",
            "59回目: theta0 = 299.093, theta1 = 65.248, 差分 = 7303.0280\n",
            "60回目: theta0 = 301.694, theta1 = 65.813, 差分 = 7013.8281\n",
            "61回目: theta0 = 304.244, theta1 = 66.366, 差分 = 6736.0805\n",
            "62回目: theta0 = 306.742, theta1 = 66.908, 差分 = 6469.3317\n",
            "63回目: theta0 = 309.190, theta1 = 67.440, 差分 = 6213.1461\n",
            "64回目: theta0 = 311.589, theta1 = 67.961, 差分 = 5967.1056\n",
            "65回目: theta0 = 313.940, theta1 = 68.471, 差分 = 5730.8082\n",
            "66回目: theta0 = 316.245, theta1 = 68.971, 差分 = 5503.8682\n",
            "67回目: theta0 = 318.503, theta1 = 69.461, 差分 = 5285.9150\n",
            "68回目: theta0 = 320.716, theta1 = 69.942, 差分 = 5076.5928\n",
            "69回目: theta0 = 322.884, theta1 = 70.412, 差分 = 4875.5597\n",
            "70回目: theta0 = 325.010, theta1 = 70.874, 差分 = 4682.4875\n",
            "71回目: theta0 = 327.092, theta1 = 71.326, 差分 = 4497.0610\n",
            "72回目: theta0 = 329.134, theta1 = 71.769, 差分 = 4318.9774\n",
            "73回目: theta0 = 331.134, theta1 = 72.203, 差分 = 4147.9459\n",
            "74回目: theta0 = 333.094, theta1 = 72.629, 差分 = 3983.6872\n",
            "75回目: theta0 = 335.015, theta1 = 73.046, 差分 = 3825.9332\n",
            "76回目: theta0 = 336.898, theta1 = 73.454, 差分 = 3674.4263\n",
            "77回目: theta0 = 338.743, theta1 = 73.855, 差分 = 3528.9190\n",
            "78回目: theta0 = 340.551, theta1 = 74.247, 差分 = 3389.1738\n",
            "79回目: theta0 = 342.323, theta1 = 74.632, 差分 = 3254.9625\n",
            "80回目: theta0 = 344.060, theta1 = 75.009, 差分 = 3126.0660\n",
            "81回目: theta0 = 345.761, theta1 = 75.378, 差分 = 3002.2738\n",
            "82回目: theta0 = 347.429, theta1 = 75.740, 差分 = 2883.3837\n",
            "83回目: theta0 = 349.064, theta1 = 76.095, 差分 = 2769.2017\n",
            "84回目: theta0 = 350.665, theta1 = 76.443, 差分 = 2659.5414\n",
            "85回目: theta0 = 352.235, theta1 = 76.783, 差分 = 2554.2235\n",
            "86回目: theta0 = 353.773, theta1 = 77.117, 差分 = 2453.0763\n",
            "87回目: theta0 = 355.281, theta1 = 77.445, 差分 = 2355.9344\n",
            "88回目: theta0 = 356.758, theta1 = 77.765, 差分 = 2262.6394\n",
            "89回目: theta0 = 358.206, theta1 = 78.079, 差分 = 2173.0389\n",
            "90回目: theta0 = 359.625, theta1 = 78.387, 差分 = 2086.9866\n",
            "91回目: theta0 = 361.016, theta1 = 78.689, 差分 = 2004.3419\n",
            "92回目: theta0 = 362.378, theta1 = 78.985, 差分 = 1924.9700\n",
            "93回目: theta0 = 363.714, theta1 = 79.275, 差分 = 1848.7412\n",
            "94回目: theta0 = 365.022, theta1 = 79.559, 差分 = 1775.5310\n",
            "95回目: theta0 = 366.305, theta1 = 79.837, 差分 = 1705.2200\n",
            "96回目: theta0 = 367.562, theta1 = 80.110, 差分 = 1637.6933\n",
            "97回目: theta0 = 368.794, theta1 = 80.378, 差分 = 1572.8406\n",
            "98回目: theta0 = 370.001, theta1 = 80.640, 差分 = 1510.5561\n",
            "99回目: theta0 = 371.184, theta1 = 80.896, 差分 = 1450.7381\n",
            "100回目: theta0 = 372.343, theta1 = 81.148, 差分 = 1393.2889\n",
            "101回目: theta0 = 373.479, theta1 = 81.395, 差分 = 1338.1146\n",
            "102回目: theta0 = 374.593, theta1 = 81.636, 差分 = 1285.1253\n",
            "103回目: theta0 = 375.684, theta1 = 81.873, 差分 = 1234.2343\n",
            "104回目: theta0 = 376.753, theta1 = 82.105, 差分 = 1185.3587\n",
            "105回目: theta0 = 377.801, theta1 = 82.333, 差分 = 1138.4185\n",
            "106回目: theta0 = 378.828, theta1 = 82.556, 差分 = 1093.3371\n",
            "107回目: theta0 = 379.834, theta1 = 82.774, 差分 = 1050.0409\n",
            "108回目: theta0 = 380.821, theta1 = 82.988, 差分 = 1008.4593\n",
            "109回目: theta0 = 381.787, theta1 = 83.198, 差分 = 968.5243\n",
            "110回目: theta0 = 382.735, theta1 = 83.404, 差分 = 930.1708\n",
            "111回目: theta0 = 383.663, theta1 = 83.605, 差分 = 893.3360\n",
            "112回目: theta0 = 384.573, theta1 = 83.803, 差分 = 857.9599\n",
            "113回目: theta0 = 385.464, theta1 = 83.996, 差分 = 823.9847\n",
            "114回目: theta0 = 386.338, theta1 = 84.186, 差分 = 791.3549\n",
            "115回目: theta0 = 387.194, theta1 = 84.372, 差分 = 760.0172\n",
            "116回目: theta0 = 388.033, theta1 = 84.554, 差分 = 729.9206\n",
            "117回目: theta0 = 388.856, theta1 = 84.732, 差分 = 701.0157\n",
            "118回目: theta0 = 389.661, theta1 = 84.907, 差分 = 673.2555\n",
            "119回目: theta0 = 390.451, theta1 = 85.079, 差分 = 646.5946\n",
            "120回目: theta0 = 391.225, theta1 = 85.247, 差分 = 620.9894\n",
            "121回目: theta0 = 391.984, theta1 = 85.411, 差分 = 596.3982\n",
            "122回目: theta0 = 392.727, theta1 = 85.573, 差分 = 572.7809\n",
            "123回目: theta0 = 393.455, theta1 = 85.731, 差分 = 550.0987\n",
            "124回目: theta0 = 394.169, theta1 = 85.886, 差分 = 528.3148\n",
            "125回目: theta0 = 394.869, theta1 = 86.038, 差分 = 507.3936\n",
            "126回目: theta0 = 395.555, theta1 = 86.186, 差分 = 487.3008\n",
            "127回目: theta0 = 396.227, theta1 = 86.332, 差分 = 468.0037\n",
            "128回目: theta0 = 396.885, theta1 = 86.475, 差分 = 449.4707\n",
            "129回目: theta0 = 397.530, theta1 = 86.615, 差分 = 431.6717\n",
            "130回目: theta0 = 398.163, theta1 = 86.753, 差分 = 414.5775\n",
            "131回目: theta0 = 398.782, theta1 = 86.887, 差分 = 398.1602\n",
            "132回目: theta0 = 399.390, theta1 = 87.019, 差分 = 382.3931\n",
            "133回目: theta0 = 399.985, theta1 = 87.148, 差分 = 367.2503\n",
            "134回目: theta0 = 400.568, theta1 = 87.275, 差分 = 352.7072\n",
            "135回目: theta0 = 401.140, theta1 = 87.399, 差分 = 338.7400\n",
            "136回目: theta0 = 401.700, theta1 = 87.520, 差分 = 325.3259\n",
            "137回目: theta0 = 402.249, theta1 = 87.640, 差分 = 312.4430\n",
            "138回目: theta0 = 402.787, theta1 = 87.756, 差分 = 300.0702\n",
            "139回目: theta0 = 403.314, theta1 = 87.871, 差分 = 288.1875\n",
            "140回目: theta0 = 403.831, theta1 = 87.983, 差分 = 276.7752\n",
            "141回目: theta0 = 404.337, theta1 = 88.093, 差分 = 265.8149\n",
            "142回目: theta0 = 404.834, theta1 = 88.201, 差分 = 255.2887\n",
            "143回目: theta0 = 405.320, theta1 = 88.306, 差分 = 245.1792\n",
            "144回目: theta0 = 405.797, theta1 = 88.410, 差分 = 235.4701\n",
            "145回目: theta0 = 406.264, theta1 = 88.511, 差分 = 226.1455\n",
            "146回目: theta0 = 406.721, theta1 = 88.610, 差分 = 217.1902\n",
            "147回目: theta0 = 407.170, theta1 = 88.708, 差分 = 208.5894\n",
            "148回目: theta0 = 407.610, theta1 = 88.803, 差分 = 200.3293\n",
            "149回目: theta0 = 408.040, theta1 = 88.897, 差分 = 192.3962\n",
            "150回目: theta0 = 408.463, theta1 = 88.988, 差分 = 184.7774\n",
            "151回目: theta0 = 408.876, theta1 = 89.078, 差分 = 177.4602\n",
            "152回目: theta0 = 409.282, theta1 = 89.166, 差分 = 170.4327\n",
            "153回目: theta0 = 409.679, theta1 = 89.252, 差分 = 163.6836\n",
            "154回目: theta0 = 410.069, theta1 = 89.337, 差分 = 157.2017\n",
            "155回目: theta0 = 410.450, theta1 = 89.420, 差分 = 150.9765\n",
            "156回目: theta0 = 410.824, theta1 = 89.501, 差分 = 144.9979\n",
            "157回目: theta0 = 411.191, theta1 = 89.580, 差分 = 139.2560\n",
            "158回目: theta0 = 411.550, theta1 = 89.658, 差分 = 133.7414\n",
            "159回目: theta0 = 411.902, theta1 = 89.735, 差分 = 128.4453\n",
            "160回目: theta0 = 412.247, theta1 = 89.810, 差分 = 123.3588\n",
            "161回目: theta0 = 412.585, theta1 = 89.883, 差分 = 118.4738\n",
            "162回目: theta0 = 412.916, theta1 = 89.955, 差分 = 113.7823\n",
            "163回目: theta0 = 413.241, theta1 = 90.026, 差分 = 109.2765\n",
            "164回目: theta0 = 413.559, theta1 = 90.095, 差分 = 104.9491\n",
            "165回目: theta0 = 413.871, theta1 = 90.162, 差分 = 100.7931\n",
            "166回目: theta0 = 414.177, theta1 = 90.229, 差分 = 96.8017\n",
            "167回目: theta0 = 414.476, theta1 = 90.294, 差分 = 92.9684\n",
            "168回目: theta0 = 414.769, theta1 = 90.357, 差分 = 89.2868\n",
            "169回目: theta0 = 415.057, theta1 = 90.420, 差分 = 85.7511\n",
            "170回目: theta0 = 415.339, theta1 = 90.481, 差分 = 82.3553\n",
            "171回目: theta0 = 415.615, theta1 = 90.541, 差分 = 79.0941\n",
            "172回目: theta0 = 415.886, theta1 = 90.600, 差分 = 75.9619\n",
            "173回目: theta0 = 416.151, theta1 = 90.657, 差分 = 72.9539\n",
            "174回目: theta0 = 416.411, theta1 = 90.714, 差分 = 70.0649\n",
            "175回目: theta0 = 416.666, theta1 = 90.769, 差分 = 67.2903\n",
            "176回目: theta0 = 416.916, theta1 = 90.823, 差分 = 64.6256\n",
            "177回目: theta0 = 417.160, theta1 = 90.876, 差分 = 62.0664\n",
            "178回目: theta0 = 417.400, theta1 = 90.928, 差分 = 59.6086\n",
            "179回目: theta0 = 417.635, theta1 = 90.979, 差分 = 57.2481\n",
            "180回目: theta0 = 417.865, theta1 = 91.029, 差分 = 54.9811\n",
            "181回目: theta0 = 418.091, theta1 = 91.078, 差分 = 52.8038\n",
            "182回目: theta0 = 418.312, theta1 = 91.126, 差分 = 50.7128\n",
            "183回目: theta0 = 418.529, theta1 = 91.173, 差分 = 48.7046\n",
            "184回目: theta0 = 418.741, theta1 = 91.219, 差分 = 46.7759\n",
            "185回目: theta0 = 418.950, theta1 = 91.265, 差分 = 44.9235\n",
            "186回目: theta0 = 419.154, theta1 = 91.309, 差分 = 43.1446\n",
            "187回目: theta0 = 419.354, theta1 = 91.352, 差分 = 41.4360\n",
            "188回目: theta0 = 419.549, theta1 = 91.395, 差分 = 39.7952\n",
            "189回目: theta0 = 419.741, theta1 = 91.437, 差分 = 38.2193\n",
            "190回目: theta0 = 419.930, theta1 = 91.477, 差分 = 36.7058\n",
            "191回目: theta0 = 420.114, theta1 = 91.517, 差分 = 35.2523\n",
            "192回目: theta0 = 420.295, theta1 = 91.557, 差分 = 33.8563\n",
            "193回目: theta0 = 420.472, theta1 = 91.595, 差分 = 32.5156\n",
            "194回目: theta0 = 420.645, theta1 = 91.633, 差分 = 31.2279\n",
            "195回目: theta0 = 420.816, theta1 = 91.670, 差分 = 29.9913\n",
            "196回目: theta0 = 420.982, theta1 = 91.706, 差分 = 28.8037\n",
            "197回目: theta0 = 421.146, theta1 = 91.741, 差分 = 27.6630\n",
            "198回目: theta0 = 421.306, theta1 = 91.776, 差分 = 26.5676\n",
            "199回目: theta0 = 421.463, theta1 = 91.810, 差分 = 25.5155\n",
            "200回目: theta0 = 421.616, theta1 = 91.843, 差分 = 24.5051\n",
            "201回目: theta0 = 421.767, theta1 = 91.876, 差分 = 23.5347\n",
            "202回目: theta0 = 421.915, theta1 = 91.908, 差分 = 22.6027\n",
            "203回目: theta0 = 422.059, theta1 = 91.940, 差分 = 21.7076\n",
            "204回目: theta0 = 422.201, theta1 = 91.970, 差分 = 20.8480\n",
            "205回目: theta0 = 422.340, theta1 = 92.001, 差分 = 20.0224\n",
            "206回目: theta0 = 422.476, theta1 = 92.030, 差分 = 19.2296\n",
            "207回目: theta0 = 422.610, theta1 = 92.059, 差分 = 18.4681\n",
            "208回目: theta0 = 422.741, theta1 = 92.088, 差分 = 17.7367\n",
            "209回目: theta0 = 422.869, theta1 = 92.115, 差分 = 17.0344\n",
            "210回目: theta0 = 422.994, theta1 = 92.143, 差分 = 16.3598\n",
            "211回目: theta0 = 423.118, theta1 = 92.169, 差分 = 15.7119\n",
            "212回目: theta0 = 423.238, theta1 = 92.196, 差分 = 15.0898\n",
            "213回目: theta0 = 423.356, theta1 = 92.221, 差分 = 14.4922\n",
            "214回目: theta0 = 423.472, theta1 = 92.246, 差分 = 13.9183\n",
            "215回目: theta0 = 423.586, theta1 = 92.271, 差分 = 13.3671\n",
            "216回目: theta0 = 423.697, theta1 = 92.295, 差分 = 12.8378\n",
            "217回目: theta0 = 423.806, theta1 = 92.319, 差分 = 12.3294\n",
            "218回目: theta0 = 423.913, theta1 = 92.342, 差分 = 11.8412\n",
            "219回目: theta0 = 424.018, theta1 = 92.365, 差分 = 11.3723\n",
            "220回目: theta0 = 424.120, theta1 = 92.387, 差分 = 10.9219\n",
            "221回目: theta0 = 424.221, theta1 = 92.409, 差分 = 10.4894\n",
            "222回目: theta0 = 424.320, theta1 = 92.430, 差分 = 10.0740\n",
            "223回目: theta0 = 424.416, theta1 = 92.451, 差分 = 9.6751\n",
            "224回目: theta0 = 424.511, theta1 = 92.472, 差分 = 9.2920\n",
            "225回目: theta0 = 424.604, theta1 = 92.492, 差分 = 8.9240\n",
            "226回目: theta0 = 424.695, theta1 = 92.512, 差分 = 8.5706\n",
            "227回目: theta0 = 424.784, theta1 = 92.531, 差分 = 8.2312\n",
            "228回目: theta0 = 424.871, theta1 = 92.550, 差分 = 7.9053\n",
            "229回目: theta0 = 424.957, theta1 = 92.569, 差分 = 7.5922\n",
            "230回目: theta0 = 425.040, theta1 = 92.587, 差分 = 7.2916\n",
            "231回目: theta0 = 425.123, theta1 = 92.605, 差分 = 7.0028\n",
            "232回目: theta0 = 425.203, theta1 = 92.622, 差分 = 6.7255\n",
            "233回目: theta0 = 425.282, theta1 = 92.639, 差分 = 6.4592\n",
            "234回目: theta0 = 425.360, theta1 = 92.656, 差分 = 6.2034\n",
            "235回目: theta0 = 425.435, theta1 = 92.672, 差分 = 5.9577\n",
            "236回目: theta0 = 425.510, theta1 = 92.689, 差分 = 5.7218\n",
            "237回目: theta0 = 425.582, theta1 = 92.704, 差分 = 5.4952\n",
            "238回目: theta0 = 425.654, theta1 = 92.720, 差分 = 5.2776\n",
            "239回目: theta0 = 425.724, theta1 = 92.735, 差分 = 5.0686\n",
            "240回目: theta0 = 425.792, theta1 = 92.750, 差分 = 4.8679\n",
            "241回目: theta0 = 425.859, theta1 = 92.764, 差分 = 4.6751\n",
            "242回目: theta0 = 425.925, theta1 = 92.779, 差分 = 4.4900\n",
            "243回目: theta0 = 425.990, theta1 = 92.793, 差分 = 4.3122\n",
            "244回目: theta0 = 426.053, theta1 = 92.807, 差分 = 4.1414\n",
            "245回目: theta0 = 426.115, theta1 = 92.820, 差分 = 3.9774\n",
            "246回目: theta0 = 426.176, theta1 = 92.833, 差分 = 3.8199\n",
            "247回目: theta0 = 426.235, theta1 = 92.846, 差分 = 3.6687\n",
            "248回目: theta0 = 426.293, theta1 = 92.859, 差分 = 3.5234\n",
            "249回目: theta0 = 426.350, theta1 = 92.871, 差分 = 3.3839\n",
            "250回目: theta0 = 426.406, theta1 = 92.883, 差分 = 3.2499\n",
            "251回目: theta0 = 426.461, theta1 = 92.895, 差分 = 3.1212\n",
            "252回目: theta0 = 426.515, theta1 = 92.907, 差分 = 2.9976\n",
            "253回目: theta0 = 426.568, theta1 = 92.918, 差分 = 2.8789\n",
            "254回目: theta0 = 426.619, theta1 = 92.929, 差分 = 2.7649\n",
            "255回目: theta0 = 426.670, theta1 = 92.940, 差分 = 2.6554\n",
            "256回目: theta0 = 426.720, theta1 = 92.951, 差分 = 2.5502\n",
            "257回目: theta0 = 426.768, theta1 = 92.962, 差分 = 2.4492\n",
            "258回目: theta0 = 426.816, theta1 = 92.972, 差分 = 2.3522\n",
            "259回目: theta0 = 426.863, theta1 = 92.982, 差分 = 2.2591\n",
            "260回目: theta0 = 426.908, theta1 = 92.992, 差分 = 2.1696\n",
            "261回目: theta0 = 426.953, theta1 = 93.002, 差分 = 2.0837\n",
            "262回目: theta0 = 426.997, theta1 = 93.011, 差分 = 2.0012\n",
            "263回目: theta0 = 427.040, theta1 = 93.021, 差分 = 1.9219\n",
            "264回目: theta0 = 427.082, theta1 = 93.030, 差分 = 1.8458\n",
            "265回目: theta0 = 427.124, theta1 = 93.039, 差分 = 1.7727\n",
            "266回目: theta0 = 427.164, theta1 = 93.048, 差分 = 1.7025\n",
            "267回目: theta0 = 427.204, theta1 = 93.056, 差分 = 1.6351\n",
            "268回目: theta0 = 427.243, theta1 = 93.065, 差分 = 1.5704\n",
            "269回目: theta0 = 427.281, theta1 = 93.073, 差分 = 1.5082\n",
            "270回目: theta0 = 427.318, theta1 = 93.081, 差分 = 1.4485\n",
            "271回目: theta0 = 427.355, theta1 = 93.089, 差分 = 1.3911\n",
            "272回目: theta0 = 427.391, theta1 = 93.097, 差分 = 1.3360\n",
            "273回目: theta0 = 427.426, theta1 = 93.105, 差分 = 1.2831\n",
            "274回目: theta0 = 427.461, theta1 = 93.112, 差分 = 1.2323\n",
            "275回目: theta0 = 427.494, theta1 = 93.119, 差分 = 1.1835\n",
            "276回目: theta0 = 427.527, theta1 = 93.127, 差分 = 1.1366\n",
            "277回目: theta0 = 427.560, theta1 = 93.134, 差分 = 1.0916\n",
            "278回目: theta0 = 427.592, theta1 = 93.141, 差分 = 1.0484\n",
            "279回目: theta0 = 427.623, theta1 = 93.147, 差分 = 1.0069\n",
            "280回目: theta0 = 427.653, theta1 = 93.154, 差分 = 0.9670\n",
            "281回目: theta0 = 427.683, theta1 = 93.160, 差分 = 0.9287\n",
            "282回目: theta0 = 427.713, theta1 = 93.167, 差分 = 0.8919\n",
            "283回目: theta0 = 427.741, theta1 = 93.173, 差分 = 0.8566\n",
            "284回目: theta0 = 427.770, theta1 = 93.179, 差分 = 0.8227\n",
            "285回目: theta0 = 427.797, theta1 = 93.185, 差分 = 0.7901\n",
            "286回目: theta0 = 427.824, theta1 = 93.191, 差分 = 0.7588\n",
            "287回目: theta0 = 427.851, theta1 = 93.197, 差分 = 0.7288\n",
            "288回目: theta0 = 427.877, theta1 = 93.202, 差分 = 0.6999\n",
            "289回目: theta0 = 427.902, theta1 = 93.208, 差分 = 0.6722\n",
            "290回目: theta0 = 427.927, theta1 = 93.213, 差分 = 0.6456\n",
            "291回目: theta0 = 427.952, theta1 = 93.219, 差分 = 0.6200\n",
            "292回目: theta0 = 427.976, theta1 = 93.224, 差分 = 0.5955\n",
            "293回目: theta0 = 427.999, theta1 = 93.229, 差分 = 0.5719\n",
            "294回目: theta0 = 428.022, theta1 = 93.234, 差分 = 0.5492\n",
            "295回目: theta0 = 428.045, theta1 = 93.239, 差分 = 0.5275\n",
            "296回目: theta0 = 428.067, theta1 = 93.244, 差分 = 0.5066\n",
            "297回目: theta0 = 428.088, theta1 = 93.248, 差分 = 0.4865\n",
            "298回目: theta0 = 428.110, theta1 = 93.253, 差分 = 0.4673\n",
            "299回目: theta0 = 428.130, theta1 = 93.257, 差分 = 0.4488\n",
            "300回目: theta0 = 428.151, theta1 = 93.262, 差分 = 0.4310\n",
            "301回目: theta0 = 428.171, theta1 = 93.266, 差分 = 0.4139\n",
            "302回目: theta0 = 428.190, theta1 = 93.270, 差分 = 0.3975\n",
            "303回目: theta0 = 428.210, theta1 = 93.275, 差分 = 0.3818\n",
            "304回目: theta0 = 428.228, theta1 = 93.279, 差分 = 0.3667\n",
            "305回目: theta0 = 428.247, theta1 = 93.283, 差分 = 0.3522\n",
            "306回目: theta0 = 428.265, theta1 = 93.287, 差分 = 0.3382\n",
            "307回目: theta0 = 428.283, theta1 = 93.290, 差分 = 0.3248\n",
            "308回目: theta0 = 428.300, theta1 = 93.294, 差分 = 0.3120\n",
            "309回目: theta0 = 428.317, theta1 = 93.298, 差分 = 0.2996\n",
            "310回目: theta0 = 428.334, theta1 = 93.302, 差分 = 0.2877\n",
            "311回目: theta0 = 428.350, theta1 = 93.305, 差分 = 0.2763\n",
            "312回目: theta0 = 428.366, theta1 = 93.309, 差分 = 0.2654\n",
            "313回目: theta0 = 428.382, theta1 = 93.312, 差分 = 0.2549\n",
            "314回目: theta0 = 428.397, theta1 = 93.315, 差分 = 0.2448\n",
            "315回目: theta0 = 428.412, theta1 = 93.319, 差分 = 0.2351\n",
            "316回目: theta0 = 428.427, theta1 = 93.322, 差分 = 0.2258\n",
            "317回目: theta0 = 428.441, theta1 = 93.325, 差分 = 0.2168\n",
            "318回目: theta0 = 428.455, theta1 = 93.328, 差分 = 0.2083\n",
            "319回目: theta0 = 428.469, theta1 = 93.331, 差分 = 0.2000\n",
            "320回目: theta0 = 428.483, theta1 = 93.334, 差分 = 0.1921\n",
            "321回目: theta0 = 428.496, theta1 = 93.337, 差分 = 0.1845\n",
            "322回目: theta0 = 428.509, theta1 = 93.340, 差分 = 0.1772\n",
            "323回目: theta0 = 428.522, theta1 = 93.342, 差分 = 0.1702\n",
            "324回目: theta0 = 428.535, theta1 = 93.345, 差分 = 0.1634\n",
            "325回目: theta0 = 428.547, theta1 = 93.348, 差分 = 0.1570\n",
            "326回目: theta0 = 428.559, theta1 = 93.351, 差分 = 0.1507\n",
            "327回目: theta0 = 428.571, theta1 = 93.353, 差分 = 0.1448\n",
            "328回目: theta0 = 428.583, theta1 = 93.356, 差分 = 0.1390\n",
            "329回目: theta0 = 428.594, theta1 = 93.358, 差分 = 0.1335\n",
            "330回目: theta0 = 428.605, theta1 = 93.360, 差分 = 0.1282\n",
            "331回目: theta0 = 428.616, theta1 = 93.363, 差分 = 0.1232\n",
            "332回目: theta0 = 428.627, theta1 = 93.365, 差分 = 0.1183\n",
            "333回目: theta0 = 428.637, theta1 = 93.367, 差分 = 0.1136\n",
            "334回目: theta0 = 428.647, theta1 = 93.370, 差分 = 0.1091\n",
            "335回目: theta0 = 428.657, theta1 = 93.372, 差分 = 0.1048\n",
            "336回目: theta0 = 428.667, theta1 = 93.374, 差分 = 0.1006\n",
            "337回目: theta0 = 428.677, theta1 = 93.376, 差分 = 0.0966\n",
            "338回目: theta0 = 428.686, theta1 = 93.378, 差分 = 0.0928\n",
            "339回目: theta0 = 428.696, theta1 = 93.380, 差分 = 0.0891\n",
            "340回目: theta0 = 428.705, theta1 = 93.382, 差分 = 0.0856\n",
            "341回目: theta0 = 428.714, theta1 = 93.384, 差分 = 0.0822\n",
            "342回目: theta0 = 428.722, theta1 = 93.386, 差分 = 0.0790\n",
            "343回目: theta0 = 428.731, theta1 = 93.388, 差分 = 0.0758\n",
            "344回目: theta0 = 428.739, theta1 = 93.390, 差分 = 0.0728\n",
            "345回目: theta0 = 428.747, theta1 = 93.391, 差分 = 0.0700\n",
            "346回目: theta0 = 428.756, theta1 = 93.393, 差分 = 0.0672\n",
            "347回目: theta0 = 428.763, theta1 = 93.395, 差分 = 0.0645\n",
            "348回目: theta0 = 428.771, theta1 = 93.397, 差分 = 0.0620\n",
            "349回目: theta0 = 428.779, theta1 = 93.398, 差分 = 0.0595\n",
            "350回目: theta0 = 428.786, theta1 = 93.400, 差分 = 0.0572\n",
            "351回目: theta0 = 428.793, theta1 = 93.401, 差分 = 0.0549\n",
            "352回目: theta0 = 428.801, theta1 = 93.403, 差分 = 0.0527\n",
            "353回目: theta0 = 428.808, theta1 = 93.404, 差分 = 0.0506\n",
            "354回目: theta0 = 428.814, theta1 = 93.406, 差分 = 0.0486\n",
            "355回目: theta0 = 428.821, theta1 = 93.407, 差分 = 0.0467\n",
            "356回目: theta0 = 428.828, theta1 = 93.409, 差分 = 0.0449\n",
            "357回目: theta0 = 428.834, theta1 = 93.410, 差分 = 0.0431\n",
            "358回目: theta0 = 428.840, theta1 = 93.412, 差分 = 0.0414\n",
            "359回目: theta0 = 428.847, theta1 = 93.413, 差分 = 0.0397\n",
            "360回目: theta0 = 428.853, theta1 = 93.414, 差分 = 0.0382\n",
            "361回目: theta0 = 428.859, theta1 = 93.416, 差分 = 0.0366\n",
            "362回目: theta0 = 428.864, theta1 = 93.417, 差分 = 0.0352\n",
            "363回目: theta0 = 428.870, theta1 = 93.418, 差分 = 0.0338\n",
            "364回目: theta0 = 428.876, theta1 = 93.419, 差分 = 0.0325\n",
            "365回目: theta0 = 428.881, theta1 = 93.420, 差分 = 0.0312\n",
            "366回目: theta0 = 428.887, theta1 = 93.422, 差分 = 0.0299\n",
            "367回目: theta0 = 428.892, theta1 = 93.423, 差分 = 0.0288\n",
            "368回目: theta0 = 428.897, theta1 = 93.424, 差分 = 0.0276\n",
            "369回目: theta0 = 428.902, theta1 = 93.425, 差分 = 0.0265\n",
            "370回目: theta0 = 428.907, theta1 = 93.426, 差分 = 0.0255\n",
            "371回目: theta0 = 428.912, theta1 = 93.427, 差分 = 0.0245\n",
            "372回目: theta0 = 428.917, theta1 = 93.428, 差分 = 0.0235\n",
            "373回目: theta0 = 428.921, theta1 = 93.429, 差分 = 0.0226\n",
            "374回目: theta0 = 428.926, theta1 = 93.430, 差分 = 0.0217\n",
            "375回目: theta0 = 428.930, theta1 = 93.431, 差分 = 0.0208\n",
            "376回目: theta0 = 428.935, theta1 = 93.432, 差分 = 0.0200\n",
            "377回目: theta0 = 428.939, theta1 = 93.433, 差分 = 0.0192\n",
            "378回目: theta0 = 428.943, theta1 = 93.434, 差分 = 0.0184\n",
            "379回目: theta0 = 428.947, theta1 = 93.435, 差分 = 0.0177\n",
            "380回目: theta0 = 428.952, theta1 = 93.436, 差分 = 0.0170\n",
            "381回目: theta0 = 428.955, theta1 = 93.437, 差分 = 0.0163\n",
            "382回目: theta0 = 428.959, theta1 = 93.437, 差分 = 0.0157\n",
            "383回目: theta0 = 428.963, theta1 = 93.438, 差分 = 0.0151\n",
            "384回目: theta0 = 428.967, theta1 = 93.439, 差分 = 0.0145\n",
            "385回目: theta0 = 428.971, theta1 = 93.440, 差分 = 0.0139\n",
            "386回目: theta0 = 428.974, theta1 = 93.441, 差分 = 0.0133\n",
            "387回目: theta0 = 428.978, theta1 = 93.441, 差分 = 0.0128\n",
            "388回目: theta0 = 428.981, theta1 = 93.442, 差分 = 0.0123\n",
            "389回目: theta0 = 428.985, theta1 = 93.443, 差分 = 0.0118\n",
            "390回目: theta0 = 428.988, theta1 = 93.444, 差分 = 0.0114\n",
            "391回目: theta0 = 428.991, theta1 = 93.444, 差分 = 0.0109\n",
            "392回目: theta0 = 428.994, theta1 = 93.445, 差分 = 0.0105\n",
            "393回目: theta0 = 428.997, theta1 = 93.446, 差分 = 0.0101\n",
            "394回目: theta0 = 429.000, theta1 = 93.446, 差分 = 0.0097\n"
          ],
          "name": "stdout"
        }
      ]
    },
    {
      "cell_type": "code",
      "metadata": {
        "id": "UPnDGvMa2znf",
        "colab_type": "code",
        "outputId": "d712d1ad-b573-4878-c105-3dd4ee5e419f",
        "colab": {
          "base_uri": "https://localhost:8080/",
          "height": 282
        }
      },
      "source": [
        "# プロットして確認\n",
        "x = np.linspace(-3, 3, 100)\n",
        "plt.plot(train_z, train_y, 'o')\n",
        "plt.plot(x, f(x))"
      ],
      "execution_count": 9,
      "outputs": [
        {
          "output_type": "execute_result",
          "data": {
            "text/plain": [
              "[<matplotlib.lines.Line2D at 0x7fae4dd47d68>]"
            ]
          },
          "metadata": {
            "tags": []
          },
          "execution_count": 9
        },
        {
          "output_type": "display_data",
          "data": {
            "image/png": "[encoded data removed]",
            "text/plain": [
              "<Figure size 432x288 with 1 Axes>"
            ]
          },
          "metadata": {
            "tags": []
          }
        }
      ]
    },
    {
      "cell_type": "markdown",
      "metadata": {
        "id": "L0M6dCdU2tSe",
        "colab_type": "text"
      },
      "source": [
        "## 検証"
      ]
    },
    {
      "cell_type": "code",
      "metadata": {
        "id": "kIKeyS_y2ywu",
        "colab_type": "code",
        "outputId": "7f8e2433-dcfd-491f-91ad-8f7ca06bb1cc",
        "colab": {
          "base_uri": "https://localhost:8080/",
          "height": 34
        }
      },
      "source": [
        "# 適当なxを入力してクリック数を予測\n",
        "f(standardize(100))"
      ],
      "execution_count": 10,
      "outputs": [
        {
          "output_type": "execute_result",
          "data": {
            "text/plain": [
              "370.9673619798094"
            ]
          },
          "metadata": {
            "tags": []
          },
          "execution_count": 10
        }
      ]
    },
    {
      "cell_type": "code",
      "metadata": {
        "id": "Ug0cREEc2wTs",
        "colab_type": "code",
        "outputId": "5faeb218-7cd8-4f82-9a05-cf6d5bac584f",
        "colab": {
          "base_uri": "https://localhost:8080/",
          "height": 34
        }
      },
      "source": [
        "f(standardize(200))"
      ],
      "execution_count": 11,
      "outputs": [
        {
          "output_type": "execute_result",
          "data": {
            "text/plain": [
              "510.469909985022"
            ]
          },
          "metadata": {
            "tags": []
          },
          "execution_count": 11
        }
      ]
    },
    {
      "cell_type": "code",
      "metadata": {
        "id": "4VTCX57C3cgX",
        "colab_type": "code",
        "outputId": "a8a8844c-fa1f-49b6-fb83-a2802fafbbfc",
        "colab": {
          "base_uri": "https://localhost:8080/",
          "height": 34
        }
      },
      "source": [
        "f(standardize(300))"
      ],
      "execution_count": 12,
      "outputs": [
        {
          "output_type": "execute_result",
          "data": {
            "text/plain": [
              "649.9724579902346"
            ]
          },
          "metadata": {
            "tags": []
          },
          "execution_count": 12
        }
      ]
    },
    {
      "cell_type": "markdown",
      "metadata": {
        "id": "YT0uGlFO47ZL",
        "colab_type": "text"
      },
      "source": [
        "## 多項式回帰"
      ]
    },
    {
      "cell_type": "code",
      "metadata": {
        "id": "_GkBdg6J4_yR",
        "colab_type": "code",
        "colab": {}
      },
      "source": [
        "# パラメータを初期化\n",
        "theta = np.random.rand(3) # 3つの乱数\n",
        "\n",
        "# 学習データの行列を作る\n",
        "def to_matrix(x):\n",
        "    return np.vstack([np.ones(x.size), x, x ** 2]).T\n",
        "\n",
        "X = to_matrix(train_z)"
      ],
      "execution_count": 0,
      "outputs": []
    },
    {
      "cell_type": "code",
      "metadata": {
        "id": "9HtNPZRK76ZR",
        "colab_type": "code",
        "outputId": "4cf67bfc-b799-4312-bd98-6c01c6c34fcd",
        "colab": {
          "base_uri": "https://localhost:8080/",
          "height": 34
        }
      },
      "source": [
        "theta"
      ],
      "execution_count": 36,
      "outputs": [
        {
          "output_type": "execute_result",
          "data": {
            "text/plain": [
              "array([0.2373076 , 0.04686416, 0.66298634])"
            ]
          },
          "metadata": {
            "tags": []
          },
          "execution_count": 36
        }
      ]
    },
    {
      "cell_type": "code",
      "metadata": {
        "id": "Zoyq7u9f5s-w",
        "colab_type": "code",
        "outputId": "b191d138-8b92-44a9-8e91-ebd25b9801be",
        "colab": {
          "base_uri": "https://localhost:8080/",
          "height": 34
        }
      },
      "source": [
        "#train_z.shape\n",
        "#np.vstack([np.ones(train_z.size), train_z, train_z ** 2])"
      ],
      "execution_count": 0,
      "outputs": [
        {
          "output_type": "execute_result",
          "data": {
            "text/plain": [
              "(20,)"
            ]
          },
          "metadata": {
            "tags": []
          },
          "execution_count": 26
        }
      ]
    },
    {
      "cell_type": "code",
      "metadata": {
        "id": "PjnieVGY5KSs",
        "colab_type": "code",
        "colab": {}
      },
      "source": [
        "# 予測関数\n",
        "def f(x):\n",
        "    return np.dot(x, theta)"
      ],
      "execution_count": 0,
      "outputs": []
    },
    {
      "cell_type": "code",
      "metadata": {
        "id": "19FjCtiC5Swq",
        "colab_type": "code",
        "colab": {}
      },
      "source": [
        "# 目的関数\n",
        "def E(x, y):\n",
        "    return 0.5 * np.sum((y - f(x)) ** 2)"
      ],
      "execution_count": 0,
      "outputs": []
    },
    {
      "cell_type": "code",
      "metadata": {
        "id": "GN_L-p2i7Xm6",
        "colab_type": "code",
        "outputId": "715bf5cf-fd0b-44a6-97be-ec9ea003aecb",
        "colab": {
          "base_uri": "https://localhost:8080/",
          "height": 1000
        }
      },
      "source": [
        "# 学習率\n",
        "ETA = 1e-3\n",
        "\n",
        "# 誤差の差分\n",
        "diff = 1\n",
        "\n",
        "# 更新回数\n",
        "count = 0\n",
        "\n",
        "# 誤差の差分が0.01以下になるまでパラメータ更新を繰り返す\n",
        "error = E(X, train_y)\n",
        "while diff > 1e-2:\n",
        "    # 更新結果を一時変数に保存\n",
        "    theta = theta - ETA * np.dot(f(X) - train_y, X)\n",
        "\n",
        "    # 前回の誤差との差分を計算\n",
        "    current_error = E(X, train_y)\n",
        "    diff = error - current_error\n",
        "    error = current_error\n",
        "\n",
        "    # ログの出力\n",
        "    count += 1\n",
        "    log = '{}回目: theta = {}, 差分 = {:.4f}'\n",
        "    print(log.format(count, theta, diff))"
      ],
      "execution_count": 39,
      "outputs": [
        {
          "output_type": "stream",
          "text": [
            "1回目: theta = [8.80230172 1.91642191 9.62509121], 差分 = 153143.4898\n",
            "2回目: theta = [17.01675386  3.76102059 18.02802426], 差分 = 137883.0760\n",
            "3回目: theta = [24.8988583   5.58038368 25.90312396], 差分 = 124227.9014\n",
            "4回目: theta = [32.46581865  7.37428371 33.27999918], 差分 = 112006.9699\n",
            "5回目: theta = [39.73390229  9.1425388  40.18662434], 差分 = 101067.5616\n",
            "6回目: theta = [46.71849176 10.88500954 46.64942951], 差分 = 91273.2775\n",
            "7回目: theta = [53.43413334 12.60159595 52.69338536], 差分 = 82502.2936\n",
            "8回目: theta = [59.89458296 14.2922347  58.34208358], 差分 = 74645.8013\n",
            "9回目: theta = [66.11284963 15.95689644 63.61781278], 差分 = 67606.6153\n",
            "10回目: theta = [72.10123638 17.59558335 68.54163029], 差分 = 61297.9302\n",
            "11回目: theta = [77.87137905 19.20832675 73.13342994], 差分 = 55642.2100\n",
            "12回目: theta = [83.43428287 20.79518494 77.41200613], 差分 = 50570.1969\n",
            "13回目: theta = [88.80035709 22.35624113 81.39511441], 差分 = 46020.0259\n",
            "14回目: theta = [93.97944766 23.89160149 85.09952867], 差分 = 41936.4339\n",
            "15回目: theta = [98.98086813 25.40139334 88.5410952 ], 差分 = 38270.0542\n",
            "16回目: theta = [103.81342887  26.88576343  91.73478384], 差分 = 34976.7855\n",
            "17回目: theta = [108.48546461  28.34487635  94.69473616], 差分 = 32017.2293\n",
            "18回目: theta = [113.0048606   29.778913    97.43431118], 差分 = 29356.1870\n",
            "19回目: theta = [117.37907716  31.18806921  99.9661284 ], 差分 = 26962.2109\n",
            "20回目: theta = [121.61517305  32.57255438 102.3021086 ], 差分 = 24807.2032\n",
            "21回目: theta = [125.71982742  33.93259028 104.45351228], 差分 = 22866.0584\n",
            "22回目: theta = [129.69936062  35.26840985 106.43097609], 差分 = 21116.3429\n",
            "23回目: theta = [133.55975389  36.58025613 108.24454715], 差分 = 19538.0101\n",
            "24回目: theta = [137.30666787  37.86838124 109.90371557], 差分 = 18113.1451\n",
            "25回目: theta = [140.9454602   39.13304542 111.41744511], 差分 = 16825.7371\n",
            "26回目: theta = [144.48120209  40.37451612 112.79420221], 差分 = 15661.4758\n",
            "27回目: theta = [147.91869401  41.59306723 114.0419834 ], 差分 = 14607.5705\n",
            "28回目: theta = [151.26248046  42.78897822 115.16834116], 差分 = 13652.5869\n",
            "29回目: theta = [154.51686403  43.96253344 116.18040843], 差分 = 12786.3033\n",
            "30回目: theta = [157.68591858  45.11402149 117.08492172], 差分 = 11999.5806\n",
            "31回目: theta = [160.77350177  46.2437345  117.88824297], 差分 = 11284.2468\n",
            "32回目: theta = [163.78326688  47.3519676  118.59638018], 差分 = 10632.9944\n",
            "33回目: theta = [166.71867394  48.43901835 119.21500694], 差分 = 10039.2877\n",
            "34回目: theta = [169.58300032  49.50518624 119.74948086], 差分 = 9497.2805\n",
            "35回目: theta = [172.37935069  50.55077218 120.20486101], 差分 = 9001.7432\n",
            "36回目: theta = [175.11066646  51.57607809 120.58592434], 差分 = 8547.9965\n",
            "37回目: theta = [177.77973464  52.5814065  120.89718128], 差分 = 8131.8532\n",
            "38回目: theta = [180.38919633  53.5670601  121.14289044], 差分 = 7749.5657\n",
            "39回目: theta = [182.94155459  54.53334148 121.32707248], 差分 = 7397.7790\n",
            "40回目: theta = [185.43918205  55.48055272 121.45352322], 差分 = 7073.4896\n",
            "41回目: theta = [187.88432794  56.40899515 121.5258261 ], 差分 = 6774.0075\n",
            "42回目: theta = [190.27912486  57.31896903 121.54736385], 差分 = 6496.9231\n",
            "43回目: theta = [192.62559509  58.2107733  121.5213296 ], 差分 = 6240.0776\n",
            "44回目: theta = [194.9256566   59.08470538 121.4507373 ], 差分 = 6001.5363\n",
            "45回目: theta = [197.18112872  59.94106089 121.33843169], 差分 = 5779.5647\n",
            "46回目: theta = [199.39373751  60.7801335  121.18709753], 差分 = 5572.6076\n",
            "47回目: theta = [201.56512081  61.60221473 120.99926855], 差分 = 5379.2697\n",
            "48回目: theta = [203.69683302  62.40759379 120.7773357 ], 差分 = 5198.2993\n",
            "49回目: theta = [205.79034965  63.1965574  120.52355509], 差分 = 5028.5724\n",
            "50回目: theta = [207.84707155  63.9693897  120.24005543], 差分 = 4869.0799\n",
            "51回目: theta = [209.86832901  64.72637209 119.92884504], 差分 = 4718.9150\n",
            "52回目: theta = [211.85538553  65.46778312 119.59181853], 差分 = 4577.2627\n",
            "53回目: theta = [213.80944145  66.19389842 119.23076311], 差分 = 4443.3902\n",
            "54回目: theta = [215.73163736  66.90499056 118.84736445], 差分 = 4316.6378\n",
            "55回目: theta = [217.62305732  67.60132901 118.4432124 ], 差分 = 4196.4119\n",
            "56回目: theta = [219.48473193  68.28318007 118.01980618], 差分 = 4082.1776\n",
            "57回目: theta = [221.31764117  68.95080676 117.5785595 ], 差分 = 3973.4528\n",
            "58回目: theta = [223.12271715  69.60446883 117.1208052 ], 差分 = 3869.8026\n",
            "59回目: theta = [224.90084671  70.24442266 116.64779979], 差分 = 3770.8344\n",
            "60回目: theta = [226.65287378  70.87092128 116.16072766], 差分 = 3676.1935\n",
            "61回目: theta = [228.37960175  71.48421427 115.66070504], 差分 = 3585.5593\n",
            "62回目: theta = [230.08179561  72.08454777 115.14878385], 差分 = 3498.6416\n",
            "63回目: theta = [231.76018402  72.67216448 114.62595518], 差分 = 3415.1774\n",
            "64回目: theta = [233.41546124  73.24730359 114.09315273], 差分 = 3334.9284\n",
            "65回目: theta = [235.04828896  73.81020083 113.55125596], 差分 = 3257.6783\n",
            "66回目: theta = [236.65929806  74.36108842 113.0010931 ], 差分 = 3183.2306\n",
            "67回目: theta = [238.24909024  74.90019507 112.443444  ], 差分 = 3111.4065\n",
            "68回目: theta = [239.81823955  75.42774604 111.87904282], 差分 = 3042.0431\n",
            "69回目: theta = [241.3672939   75.94396305 111.30858057], 差分 = 2974.9919\n",
            "70回目: theta = [242.89677642  76.44906439 110.7327075 ], 差分 = 2910.1174\n",
            "71回目: theta = [244.40718674  76.94326487 110.15203537], 差分 = 2847.2956\n",
            "72回目: theta = [245.89900229  77.42677583 109.56713958], 差分 = 2786.4130\n",
            "73回目: theta = [247.37267946  77.89980522 108.97856123], 差分 = 2727.3655\n",
            "74回目: theta = [248.82865464  78.36255756 108.38680898], 差分 = 2670.0576\n",
            "75回目: theta = [250.26734537  78.81523398 107.79236089], 差分 = 2614.4014\n",
            "76回目: theta = [251.68915125  79.25803227 107.19566615], 差分 = 2560.3159\n",
            "77回目: theta = [253.0944549   79.69114686 106.59714661], 差分 = 2507.7263\n",
            "78回目: theta = [254.48362287  80.11476891 105.9971984 ], 差分 = 2456.5638\n",
            "79回目: theta = [255.85700644  80.52908628 105.39619331], 差分 = 2406.7642\n",
            "80回目: theta = [257.21494245  80.9342836  104.79448017], 差分 = 2358.2684\n",
            "81回目: theta = [258.55775399  81.33054229 104.19238612], 差分 = 2311.0213\n",
            "82回目: theta = [259.88575119  81.71804059 103.59021785], 差分 = 2264.9716\n",
            "83回目: theta = [261.19923181  82.09695361 102.98826273], 差分 = 2220.0715\n",
            "84回目: theta = [262.49848192  82.46745335 102.38678989], 差分 = 2176.2765\n",
            "85回目: theta = [263.78377648  82.82970873 101.78605126], 差分 = 2133.5449\n",
            "86回目: theta = [265.05537993  83.18388568 101.18628253], 差分 = 2091.8374\n",
            "87回目: theta = [266.31354668  83.5301471  100.58770405], 差分 = 2051.1174\n",
            "88回目: theta = [267.55852167  83.86865296  99.99052173], 差分 = 2011.3504\n",
            "89回目: theta = [268.7905408   84.19956029  99.39492781], 差分 = 1972.5039\n",
            "90回目: theta = [270.00983143  84.52302329  98.80110166], 差分 = 1934.5472\n",
            "91回目: theta = [271.21661276  84.83919328  98.2092105 ], 差分 = 1897.4512\n",
            "92回目: theta = [272.4110963   85.1482188   97.61941011], 差分 = 1861.1887\n",
            "93回目: theta = [273.59348617  85.45024566  97.03184544], 差分 = 1825.7334\n",
            "94回目: theta = [274.76397954  85.74541692  96.44665123], 差分 = 1791.0609\n",
            "95回目: theta = [275.92276692  86.03387299  95.86395265], 差分 = 1757.1475\n",
            "96回目: theta = [277.07003253  86.31575162  95.28386575], 差分 = 1723.9710\n",
            "97回目: theta = [278.20595457  86.591188    94.70649807], 差分 = 1691.5101\n",
            "98回目: theta = [279.33070551  86.86031473  94.13194906], 差分 = 1659.7444\n",
            "99回目: theta = [280.44445242  87.12326193  93.5603106 ], 差分 = 1628.6545\n",
            "100回目: theta = [281.54735716  87.38015721  92.99166737], 差分 = 1598.2217\n",
            "101回目: theta = [282.63957667  87.63112578  92.42609734], 差分 = 1568.4284\n",
            "102回目: theta = [283.72126319  87.87629043  91.86367209], 差分 = 1539.2573\n",
            "103回目: theta = [284.79256449  88.1157716   91.30445721], 差分 = 1510.6922\n",
            "104回目: theta = [285.85362405  88.34968741  90.74851266], 差分 = 1482.7172\n",
            "105回目: theta = [286.90458132  88.57815371  90.19589307], 差分 = 1455.3172\n",
            "106回目: theta = [287.94557183  88.8012841   89.64664805], 差分 = 1428.4775\n",
            "107回目: theta = [288.97672743  89.01918998  89.10082252], 差分 = 1402.1843\n",
            "108回目: theta = [289.99817643  89.23198059  88.55845695], 差分 = 1376.4238\n",
            "109回目: theta = [291.01004377  89.43976302  88.01958762], 差分 = 1351.1829\n",
            "110回目: theta = [292.01245114  89.64264229  87.48424691], 差分 = 1326.4492\n",
            "111回目: theta = [293.00551718  89.84072136  86.95246346], 差分 = 1302.2103\n",
            "112回目: theta = [293.98935756  90.03410117  86.42426246], 差分 = 1278.4545\n",
            "113回目: theta = [294.96408516  90.22288068  85.89966583], 差分 = 1255.1702\n",
            "114回目: theta = [295.92981014  90.40715688  85.3786924 ], 差分 = 1232.3466\n",
            "115回目: theta = [296.88664009  90.58702488  84.86135812], 差分 = 1209.9728\n",
            "116回目: theta = [297.83468013  90.76257787  84.34767622], 差分 = 1188.0384\n",
            "117回目: theta = [298.774033    90.93390724  83.83765739], 差分 = 1166.5334\n",
            "118回目: theta = [299.70479919  91.10110253  83.33130992], 差分 = 1145.4481\n",
            "119回目: theta = [300.62707701  91.26425152  82.82863984], 差分 = 1124.7729\n",
            "120回目: theta = [301.54096267  91.42344023  82.32965111], 差分 = 1104.4987\n",
            "121回目: theta = [302.4465504   91.57875299  81.83434567], 差分 = 1084.6164\n",
            "122回目: theta = [303.34393248  91.73027241  81.34272363], 差分 = 1065.1175\n",
            "123回目: theta = [304.23319936  91.87807947  80.85478336], 差分 = 1045.9934\n",
            "124回目: theta = [305.1144397   92.02225352  80.37052161], 差分 = 1027.2360\n",
            "125回目: theta = [305.98774047  92.16287234  79.8899336 ], 差分 = 1008.8373\n",
            "126回目: theta = [306.85318699  92.30001212  79.41301314], 差分 = 990.7894\n",
            "127回目: theta = [307.71086299  92.43374753  78.93975268], 差分 = 973.0850\n",
            "128回目: theta = [308.56085068  92.56415173  78.47014346], 差分 = 955.7164\n",
            "129回目: theta = [309.40323079  92.69129641  78.00417555], 差分 = 938.6768\n",
            "130回目: theta = [310.23808267  92.81525182  77.54183793], 差分 = 921.9589\n",
            "131回目: theta = [311.06548426  92.93608677  77.08311856], 差分 = 905.5561\n",
            "132回目: theta = [311.8855122  93.0538687  76.6280045], 差分 = 889.4617\n",
            "133回目: theta = [312.69824187  93.16866366  76.17648189], 差分 = 873.6692\n",
            "134回目: theta = [313.50374739  93.28053638  75.72853609], 差分 = 858.1724\n",
            "135回目: theta = [314.30210172  93.38955026  75.28415169], 差分 = 842.9650\n",
            "136回目: theta = [315.09337665  93.49576742  74.84331258], 差分 = 828.0413\n",
            "137回目: theta = [315.87764287  93.59924872  74.40600201], 差分 = 813.3951\n",
            "138回目: theta = [316.65496997  93.70005376  73.97220262], 差分 = 799.0210\n",
            "139回目: theta = [317.42542652  93.79824094  73.54189651], 差分 = 784.9133\n",
            "140回目: theta = [318.18908006  93.89386746  73.11506526], 差分 = 771.0666\n",
            "141回目: theta = [318.94599715  93.98698937  72.69168998], 差分 = 757.4756\n",
            "142回目: theta = [319.69624341  94.07766153  72.27175135], 差分 = 744.1351\n",
            "143回目: theta = [320.43988351  94.16593772  71.85522967], 差分 = 731.0402\n",
            "144回目: theta = [321.17698125  94.2518706   71.44210487], 差分 = 718.1857\n",
            "145回目: theta = [321.90759953  94.33551173  71.03235653], 差分 = 705.5670\n",
            "146回目: theta = [322.63180041  94.41691165  70.62596398], 差分 = 693.1794\n",
            "147回目: theta = [323.34964512  94.49611983  70.22290623], 差分 = 681.0182\n",
            "148回目: theta = [324.06119409  94.57318474  69.82316208], 差分 = 669.0789\n",
            "149回目: theta = [324.76650697  94.64815383  69.4267101 ], 差分 = 657.3572\n",
            "150回目: theta = [325.46564263  94.72107358  69.03352867], 差分 = 645.8488\n",
            "151回目: theta = [326.1586592   94.79198953  68.64359601], 差分 = 634.5495\n",
            "152回目: theta = [326.8456141   94.86094624  68.25689016], 差分 = 623.4552\n",
            "153回目: theta = [327.52656401  94.9279874   67.87338906], 差分 = 612.5619\n",
            "154回目: theta = [328.20156495  94.99315574  67.49307052], 差分 = 601.8656\n",
            "155回目: theta = [328.87067224  95.05649315  67.11591227], 差分 = 591.3627\n",
            "156回目: theta = [329.53394055  95.11804062  66.74189195], 差分 = 581.0492\n",
            "157回目: theta = [330.1914239   95.17783831  66.37098714], 差分 = 570.9215\n",
            "158回目: theta = [330.84317568  95.23592553  66.00317537], 差分 = 560.9762\n",
            "159回目: theta = [331.48924866  95.29234078  65.63843415], 差分 = 551.2096\n",
            "160回目: theta = [332.129695    95.34712177  65.27674095], 差分 = 541.6183\n",
            "161回目: theta = [332.76456628  95.40030541  64.91807324], 差分 = 532.1990\n",
            "162回目: theta = [333.39391349  95.45192783  64.56240849], 差分 = 522.9484\n",
            "163回目: theta = [334.01778705  95.50202443  64.20972419], 差分 = 513.8633\n",
            "164回目: theta = [334.63623683  95.55062987  63.85999782], 差分 = 504.9405\n",
            "165回目: theta = [335.24931214  95.59777806  63.51320694], 差分 = 496.1770\n",
            "166回目: theta = [335.85706175  95.64350222  63.1693291 ], 差分 = 487.5698\n",
            "167回目: theta = [336.45953394  95.68783489  62.82834194], 差分 = 479.1158\n",
            "168回目: theta = [337.05677642  95.73080788  62.49022313], 差分 = 470.8123\n",
            "169回目: theta = [337.64883643  95.77245239  62.1549504 ], 差分 = 462.6564\n",
            "170回目: theta = [338.23576069  95.81279892  61.82250157], 差分 = 454.6453\n",
            "171回目: theta = [338.81759545  95.85187735  61.49285452], 差分 = 446.7763\n",
            "172回目: theta = [339.39438645  95.88971693  61.1659872 ], 差分 = 439.0468\n",
            "173回目: theta = [339.96617897  95.9263463   60.84187767], 差分 = 431.4541\n",
            "174回目: theta = [340.53301784  95.96179348  60.52050406], 差分 = 423.9958\n",
            "175回目: theta = [341.0949474   95.99608592  60.20184461], 差分 = 416.6693\n",
            "176回目: theta = [341.65201156  96.02925046  59.88587765], 差分 = 409.4722\n",
            "177回目: theta = [342.20425378  96.06131342  59.57258161], 差分 = 402.4021\n",
            "178回目: theta = [342.75171707  96.09230051  59.26193504], 差分 = 395.4566\n",
            "179回目: theta = [343.29444403  96.12223694  58.95391659], 差分 = 388.6334\n",
            "180回目: theta = [343.83247682  96.15114736  58.64850503], 差分 = 381.9304\n",
            "181回目: theta = [344.36585718  96.17905592  58.34567923], 差分 = 375.3452\n",
            "182回目: theta = [344.89462645  96.20598622  58.04541821], 差分 = 368.8758\n",
            "183回目: theta = [345.41882556  96.23196141  57.74770107], 差分 = 362.5200\n",
            "184回目: theta = [345.93849503  96.2570041   57.45250707], 差分 = 356.2757\n",
            "185回目: theta = [346.45367498  96.28113645  57.15981558], 差分 = 350.1409\n",
            "186回目: theta = [346.96440517  96.30438014  56.86960609], 差分 = 344.1136\n",
            "187回目: theta = [347.47072495  96.32675638  56.58185823], 差分 = 338.1918\n",
            "188回目: theta = [347.97267328  96.34828594  56.29655175], 差分 = 332.3737\n",
            "189回目: theta = [348.47028878  96.36898914  56.01366654], 差分 = 326.6573\n",
            "190回目: theta = [348.96360968  96.38888585  55.73318262], 差分 = 321.0408\n",
            "191回目: theta = [349.45267383  96.40799556  55.45508015], 差分 = 315.5224\n",
            "192回目: theta = [349.93751875  96.42633728  55.1793394 ], 差分 = 310.1004\n",
            "193回目: theta = [350.41818159  96.44392968  54.90594081], 差分 = 304.7729\n",
            "194回目: theta = [350.89469914  96.46079097  54.63486493], 差分 = 299.5382\n",
            "195回目: theta = [351.36710786  96.476939    54.36609245], 差分 = 294.3948\n",
            "196回目: theta = [351.83544385  96.49239123  54.09960421], 差分 = 289.3410\n",
            "197回目: theta = [352.29974289  96.50716476  53.83538118], 差分 = 284.3751\n",
            "198回目: theta = [352.76004041  96.52127628  53.57340445], 差分 = 279.4955\n",
            "199回目: theta = [353.21637151  96.53474217  53.31365528], 差分 = 274.7008\n",
            "200回目: theta = [353.66877098  96.54757842  53.05611505], 差分 = 269.9895\n",
            "201回目: theta = [354.11727326  96.55980069  52.80076527], 差分 = 265.3599\n",
            "202回目: theta = [354.56191249  96.5714243   52.54758761], 差分 = 260.8107\n",
            "203回目: theta = [355.00272248  96.58246423  52.29656385], 差分 = 256.3405\n",
            "204回目: theta = [355.43973676  96.59293515  52.04767593], 差分 = 251.9477\n",
            "205回目: theta = [355.8729885   96.6028514   51.80090593], 差分 = 247.6311\n",
            "206回目: theta = [356.30251061  96.61222701  51.55623603], 差分 = 243.3893\n",
            "207回目: theta = [356.72833568  96.6210757   51.31364861], 差分 = 239.2209\n",
            "208回目: theta = [357.150496    96.62941091  51.07312612], 差分 = 235.1247\n",
            "209回目: theta = [357.56902355  96.63724576  50.83465119], 差分 = 231.0994\n",
            "210回目: theta = [357.98395006  96.64459311  50.59820656], 差分 = 227.1437\n",
            "211回目: theta = [358.39530693  96.65146552  50.36377514], 差分 = 223.2564\n",
            "212回目: theta = [358.80312528  96.65787528  50.13133993], 差分 = 219.4363\n",
            "213回目: theta = [359.20743598  96.66383442  49.9008841 ], 差分 = 215.6822\n",
            "214回目: theta = [359.60826958  96.66935469  49.67239094], 差分 = 211.9929\n",
            "215回目: theta = [360.00565637  96.6744476   49.44584386], 差分 = 208.3672\n",
            "216回目: theta = [360.39962636  96.67912438  49.22122642], 差分 = 204.8042\n",
            "217回目: theta = [360.79020931  96.68339604  48.99852231], 差分 = 201.3026\n",
            "218回目: theta = [361.17743468  96.68727334  48.77771536], 差分 = 197.8614\n",
            "219回目: theta = [361.56133168  96.6907668   48.55878949], 差分 = 194.4795\n",
            "220回目: theta = [361.94192925  96.69388669  48.34172881], 差分 = 191.1559\n",
            "221回目: theta = [362.31925609  96.69664308  48.1265175 ], 差分 = 187.8895\n",
            "222回目: theta = [362.69334062  96.69904581  47.91313992], 差分 = 184.6794\n",
            "223回目: theta = [363.06421101  96.70110449  47.70158051], 差分 = 181.5246\n",
            "224回目: theta = [363.43189518  96.70282853  47.49182388], 差分 = 178.4240\n",
            "225回目: theta = [363.7964208   96.70422711  47.28385473], 差分 = 175.3768\n",
            "226回目: theta = [364.15781529  96.70530924  47.07765792], 差分 = 172.3821\n",
            "227回目: theta = [364.51610582  96.70608368  46.87321839], 差分 = 169.4388\n",
            "228回目: theta = [364.87131934  96.70655904  46.67052126], 差分 = 166.5461\n",
            "229回目: theta = [365.22348253  96.70674372  46.46955172], 差分 = 163.7031\n",
            "230回目: theta = [365.57262184  96.70664593  46.27029511], 差分 = 160.9090\n",
            "231回目: theta = [365.9187635   96.70627368  46.07273689], 差分 = 158.1628\n",
            "232回目: theta = [366.26193349  96.70563483  45.87686263], 差分 = 155.4639\n",
            "233回目: theta = [366.60215757  96.70473704  45.68265803], 差分 = 152.8112\n",
            "234回目: theta = [366.93946126  96.70358781  45.4901089 ], 差分 = 150.2041\n",
            "235回目: theta = [367.27386986  96.70219447  45.29920119], 差分 = 147.6417\n",
            "236回目: theta = [367.60540844  96.70056417  45.10992092], 差分 = 145.1233\n",
            "237回目: theta = [367.93410185  96.69870391  44.92225428], 差分 = 142.6481\n",
            "238回目: theta = [368.25997473  96.69662053  44.73618754], 差分 = 140.2154\n",
            "239回目: theta = [368.58305148  96.6943207   44.55170711], 差分 = 137.8243\n",
            "240回目: theta = [368.90335631  96.69181096  44.36879948], 差分 = 135.4742\n",
            "241回目: theta = [369.22091319  96.6890977   44.18745128], 差分 = 133.1644\n",
            "242回目: theta = [369.5357459   96.68618713  44.00764924], 差分 = 130.8942\n",
            "243回目: theta = [369.847878    96.68308536  43.82938022], 差分 = 128.6629\n",
            "244回目: theta = [370.15733284  96.67979833  43.65263116], 差分 = 126.4698\n",
            "245回目: theta = [370.46413356  96.67633186  43.47738914], 差分 = 124.3142\n",
            "246回目: theta = [370.7683031   96.67269163  43.30364133], 差分 = 122.1956\n",
            "247回目: theta = [371.06986421  96.66888318  43.131375  ], 差分 = 120.1132\n",
            "248回目: theta = [371.36883943  96.66491194  42.96057755], 差分 = 118.0664\n",
            "249回目: theta = [371.66525109  96.66078319  42.79123648], 差分 = 116.0547\n",
            "250回目: theta = [371.95912134  96.65650211  42.62333938], 差分 = 114.0774\n",
            "251回目: theta = [372.25047212  96.65207375  42.45687395], 差分 = 112.1339\n",
            "252回目: theta = [372.5393252   96.64750304  42.29182802], 差分 = 110.2237\n",
            "253回目: theta = [372.82570214  96.64279479  42.12818949], 差分 = 108.3461\n",
            "254回目: theta = [373.10962431  96.63795372  41.96594637], 差分 = 106.5007\n",
            "255回目: theta = [373.39111289  96.6329844   41.80508678], 差分 = 104.6867\n",
            "256回目: theta = [373.6701889   96.62789133  41.64559893], 差分 = 102.9038\n",
            "257回目: theta = [373.94687314  96.62267888  41.48747114], 差分 = 101.1514\n",
            "258回目: theta = [374.22118626  96.61735133  41.33069183], 差分 = 99.4289\n",
            "259回目: theta = [374.49314869  96.61191285  41.1752495 ], 差分 = 97.7358\n",
            "260回目: theta = [374.76278073  96.60636751  41.02113276], 差分 = 96.0717\n",
            "261回目: theta = [375.03010246  96.60071929  40.86833033], 差分 = 94.4360\n",
            "262回目: theta = [375.29513381  96.59497207  40.716831  ], 差分 = 92.8282\n",
            "263回目: theta = [375.55789451  96.58912963  40.56662366], 差分 = 91.2479\n",
            "264回目: theta = [375.81840415  96.58319568  40.41769731], 差分 = 89.6945\n",
            "265回目: theta = [376.07668212  96.57717382  40.27004104], 差分 = 88.1677\n",
            "266回目: theta = [376.33274765  96.57106758  40.12364401], 差分 = 86.6670\n",
            "267回目: theta = [376.58661982  96.56488037  39.9784955 ], 差分 = 85.1918\n",
            "268回目: theta = [376.83831751  96.55861557  39.83458486], 差分 = 83.7419\n",
            "269回目: theta = [377.08785947  96.55227643  39.69190155], 差分 = 82.3167\n",
            "270回目: theta = [377.33526425  96.54586614  39.5504351 ], 差分 = 80.9158\n",
            "271回目: theta = [377.58055026  96.53938783  39.41017514], 差分 = 79.5388\n",
            "272回目: theta = [377.82373575  96.53284451  39.27111139], 差分 = 78.1853\n",
            "273回目: theta = [378.06483881  96.52623915  39.13323365], 差分 = 76.8548\n",
            "274回目: theta = [378.30387736  96.51957464  38.99653181], 差分 = 75.5471\n",
            "275回目: theta = [378.54086918  96.51285378  38.86099585], 差分 = 74.2617\n",
            "276回目: theta = [378.77583188  96.50607933  38.72661583], 差分 = 72.9982\n",
            "277回目: theta = [379.00878292  96.49925397  38.59338189], 差分 = 71.7562\n",
            "278回目: theta = [379.23973963  96.49238028  38.46128426], 差分 = 70.5355\n",
            "279回目: theta = [379.46871915  96.48546083  38.33031325], 差分 = 69.3355\n",
            "280回目: theta = [379.6957385   96.47849809  38.20045927], 差分 = 68.1560\n",
            "281回目: theta = [379.92081454  96.47149447  38.07171278], 差分 = 66.9966\n",
            "282回目: theta = [380.143964    96.46445233  37.94406435], 差分 = 65.8569\n",
            "283回目: theta = [380.36520343  96.45737396  37.81750461], 差分 = 64.7367\n",
            "284回目: theta = [380.58454927  96.45026159  37.69202427], 差分 = 63.6356\n",
            "285回目: theta = [380.8020178   96.44311741  37.56761415], 差分 = 62.5532\n",
            "286回目: theta = [381.01762516  96.43594353  37.4442651 ], 差分 = 61.4893\n",
            "287回目: theta = [381.23138736  96.42874203  37.32196808], 差分 = 60.4435\n",
            "288回目: theta = [381.44332025  96.4215149   37.20071413], 差分 = 59.4155\n",
            "289回目: theta = [381.65343956  96.41426412  37.08049435], 差分 = 58.4050\n",
            "290回目: theta = [381.86176088  96.40699158  36.96129991], 差分 = 57.4118\n",
            "291回目: theta = [382.06829966  96.39969916  36.84312208], 差分 = 56.4355\n",
            "292回目: theta = [382.27307123  96.39238864  36.72595219], 差分 = 55.4758\n",
            "293回目: theta = [382.47609076  96.3850618   36.60978165], 差分 = 54.5324\n",
            "294回目: theta = [382.67737331  96.37772035  36.49460192], 差分 = 53.6051\n",
            "295回目: theta = [382.87693381  96.37036595  36.38040457], 差分 = 52.6936\n",
            "296回目: theta = [383.07478704  96.36300023  36.26718121], 差分 = 51.7976\n",
            "297回目: theta = [383.27094768  96.35562476  36.15492353], 差分 = 50.9169\n",
            "298回目: theta = [383.46543025  96.34824107  36.04362331], 差分 = 50.0512\n",
            "299回目: theta = [383.65824918  96.34085067  35.93327238], 差分 = 49.2002\n",
            "300回目: theta = [383.84941875  96.333455    35.82386265], 差分 = 48.3637\n",
            "301回目: theta = [384.03895312  96.32605547  35.71538608], 差分 = 47.5414\n",
            "302回目: theta = [384.22686634  96.31865345  35.60783471], 差分 = 46.7331\n",
            "303回目: theta = [384.41317232  96.31125029  35.50120067], 差分 = 45.9386\n",
            "304回目: theta = [384.59788486  96.30384726  35.39547612], 差分 = 45.1576\n",
            "305回目: theta = [384.78101764  96.29644564  35.29065331], 差分 = 44.3899\n",
            "306回目: theta = [384.96258422  96.28904664  35.18672454], 差分 = 43.6353\n",
            "307回目: theta = [385.14259804  96.28165145  35.0836822 ], 差分 = 42.8935\n",
            "308回目: theta = [385.32107244  96.27426122  34.98151873], 差分 = 42.1644\n",
            "309回目: theta = [385.49802061  96.26687709  34.88022662], 差分 = 41.4476\n",
            "310回目: theta = [385.67345567  96.25950012  34.77979845], 差分 = 40.7431\n",
            "311回目: theta = [385.84739059  96.25213138  34.68022685], 差分 = 40.0505\n",
            "312回目: theta = [386.01983824  96.24477189  34.58150452], 差分 = 39.3697\n",
            "313回目: theta = [386.19081138  96.23742265  34.4836242 ], 差分 = 38.7005\n",
            "314回目: theta = [386.36032267  96.23008461  34.38657873], 差分 = 38.0427\n",
            "315回目: theta = [386.52838464  96.22275872  34.29036097], 差分 = 37.3961\n",
            "316回目: theta = [386.69500973  96.21544587  34.19496388], 差分 = 36.7605\n",
            "317回目: theta = [386.86021026  96.20814694  34.10038044], 差分 = 36.1356\n",
            "318回目: theta = [387.02399845  96.20086279  34.00660373], 差分 = 35.5215\n",
            "319回目: theta = [387.1863864   96.19359424  33.91362686], 差分 = 34.9177\n",
            "320回目: theta = [387.34738614  96.18634208  33.82144301], 差分 = 34.3243\n",
            "321回目: theta = [387.50700955  96.17910709  33.73004542], 差分 = 33.7409\n",
            "322回目: theta = [387.66526845  96.17189001  33.63942737], 差分 = 33.1675\n",
            "323回目: theta = [387.82217454  96.16469157  33.54958223], 差分 = 32.6038\n",
            "324回目: theta = [387.9777394   96.15751247  33.4605034 ], 差分 = 32.0497\n",
            "325回目: theta = [388.13197455  96.15035339  33.37218434], 差分 = 31.5050\n",
            "326回目: theta = [388.28489137  96.14321496  33.28461857], 差分 = 30.9696\n",
            "327回目: theta = [388.43650117  96.13609784  33.19779968], 差分 = 30.4433\n",
            "328回目: theta = [388.58681515  96.12900263  33.11172128], 差分 = 29.9259\n",
            "329回目: theta = [388.73584442  96.12192991  33.02637707], 差分 = 29.4173\n",
            "330回目: theta = [388.88359999  96.11488027  32.94176078], 差分 = 28.9174\n",
            "331回目: theta = [389.03009278  96.10785423  32.8578662 ], 差分 = 28.4260\n",
            "332回目: theta = [389.1753336   96.10085234  32.77468718], 差分 = 27.9429\n",
            "333回目: theta = [389.31933318  96.0938751   32.69221762], 差分 = 27.4681\n",
            "334回目: theta = [389.46210217  96.08692301  32.61045146], 差分 = 27.0013\n",
            "335回目: theta = [389.60365109  96.07999654  32.5293827 ], 差分 = 26.5425\n",
            "336回目: theta = [389.74399042  96.07309613  32.4490054 ], 差分 = 26.0915\n",
            "337回目: theta = [389.8831305   96.06622224  32.36931366], 差分 = 25.6481\n",
            "338回目: theta = [390.02108162  96.05937528  32.29030163], 差分 = 25.2123\n",
            "339回目: theta = [390.15785395  96.05255565  32.21196352], 差分 = 24.7839\n",
            "340回目: theta = [390.2934576   96.04576375  32.13429357], 差分 = 24.3627\n",
            "341回目: theta = [390.42790258  96.03899994  32.05728609], 差分 = 23.9487\n",
            "342回目: theta = [390.56119881  96.03226459  31.98093543], 差分 = 23.5418\n",
            "343回目: theta = [390.69335612  96.02555803  31.90523598], 差分 = 23.1418\n",
            "344回目: theta = [390.82438428  96.01888059  31.83018219], 差分 = 22.7486\n",
            "345回目: theta = [390.95429295  96.01223259  31.75576856], 差分 = 22.3620\n",
            "346回目: theta = [391.08309172  96.00561432  31.68198962], 差分 = 21.9821\n",
            "347回目: theta = [391.21079009  95.99902607  31.60883996], 差分 = 21.6086\n",
            "348回目: theta = [391.33739749  95.99246812  31.53631422], 差分 = 21.2414\n",
            "349回目: theta = [391.46292326  95.98594072  31.46440706], 差分 = 20.8805\n",
            "350回目: theta = [391.58737665  95.97944412  31.39311323], 差分 = 20.5257\n",
            "351回目: theta = [391.71076686  95.97297855  31.32242747], 差分 = 20.1770\n",
            "352回目: theta = [391.83310297  95.96654424  31.25234462], 差分 = 19.8342\n",
            "353回目: theta = [391.95439402  95.9601414   31.18285952], 差分 = 19.4972\n",
            "354回目: theta = [392.07464895  95.95377023  31.11396708], 差分 = 19.1659\n",
            "355回目: theta = [392.19387663  95.94743091  31.04566225], 差分 = 18.8403\n",
            "356回目: theta = [392.31208585  95.94112363  30.97794   ], 差分 = 18.5202\n",
            "357回目: theta = [392.42928533  95.93484855  30.91079538], 差分 = 18.2055\n",
            "358回目: theta = [392.54548372  95.92860584  30.84422345], 差分 = 17.8962\n",
            "359回目: theta = [392.66068957  95.92239563  30.77821933], 差分 = 17.5921\n",
            "360回目: theta = [392.7749114   95.91621806  30.71277818], 差分 = 17.2932\n",
            "361回目: theta = [392.8881576   95.91007326  30.6478952 ], 差分 = 16.9994\n",
            "362回目: theta = [393.00043655  95.90396136  30.58356562], 差分 = 16.7106\n",
            "363回目: theta = [393.1117565   95.89788246  30.51978473], 差分 = 16.4267\n",
            "364回目: theta = [393.22212568  95.89183666  30.45654784], 差分 = 16.1476\n",
            "365回目: theta = [393.33155221  95.88582406  30.39385032], 差分 = 15.8733\n",
            "366回目: theta = [393.44004416  95.87984473  30.33168757], 差分 = 15.6036\n",
            "367回目: theta = [393.54760952  95.87389876  30.27005501], 差分 = 15.3385\n",
            "368回目: theta = [393.65425623  95.86798622  30.20894814], 差分 = 15.0779\n",
            "369回目: theta = [393.75999215  95.86210716  30.14836247], 差分 = 14.8218\n",
            "370回目: theta = [393.86482505  95.85626163  30.08829355], 差分 = 14.5700\n",
            "371回目: theta = [393.96876268  95.85044969  30.02873697], 差分 = 14.3224\n",
            "372回目: theta = [394.07181269  95.84467138  29.96968837], 差分 = 14.0791\n",
            "373回目: theta = [394.17398267  95.83892672  29.91114342], 差分 = 13.8399\n",
            "374回目: theta = [394.27528015  95.83321574  29.8530978 ], 差分 = 13.6048\n",
            "375回目: theta = [394.37571259  95.82753845  29.79554728], 差分 = 13.3737\n",
            "376回目: theta = [394.47528739  95.82189489  29.73848762], 差分 = 13.1465\n",
            "377回目: theta = [394.57401189  95.81628504  29.68191464], 差分 = 12.9231\n",
            "378回目: theta = [394.67189336  95.81070891  29.62582419], 差分 = 12.7036\n",
            "379回目: theta = [394.76893901  95.8051665   29.57021215], 差分 = 12.4878\n",
            "380回目: theta = [394.86515598  95.79965779  29.51507444], 差分 = 12.2756\n",
            "381回目: theta = [394.96055138  95.79418276  29.46040702], 差分 = 12.0671\n",
            "382回目: theta = [395.05513221  95.78874141  29.40620587], 差分 = 11.8621\n",
            "383回目: theta = [395.14890545  95.78333369  29.35246702], 差分 = 11.6606\n",
            "384回目: theta = [395.241878    95.77795959  29.29918652], 差分 = 11.4625\n",
            "385回目: theta = [395.33405671  95.77261906  29.24636047], 差分 = 11.2678\n",
            "386回目: theta = [395.42544836  95.76731205  29.19398498], 差分 = 11.0763\n",
            "387回目: theta = [395.5160597   95.76203854  29.14205622], 差分 = 10.8882\n",
            "388回目: theta = [395.60589738  95.75679846  29.09057038], 差分 = 10.7032\n",
            "389回目: theta = [395.69496802  95.75159176  29.03952368], 差分 = 10.5214\n",
            "390回目: theta = [395.78327819  95.74641838  28.98891236], 差分 = 10.3427\n",
            "391回目: theta = [395.87083438  95.74127827  28.93873273], 差分 = 10.1670\n",
            "392回目: theta = [395.95764304  95.73617134  28.88898109], 差分 = 9.9942\n",
            "393回目: theta = [396.04371055  95.73109755  28.8396538 ], 差分 = 9.8245\n",
            "394回目: theta = [396.12904327  95.7260568   28.79074724], 差分 = 9.6576\n",
            "395回目: theta = [396.21364746  95.72104902  28.74225781], 差分 = 9.4935\n",
            "396回目: theta = [396.29752935  95.71607414  28.69418197], 差分 = 9.3322\n",
            "397回目: theta = [396.38069512  95.71113206  28.64651617], 差分 = 9.1737\n",
            "398回目: theta = [396.4631509   95.70622271  28.59925694], 差分 = 9.0179\n",
            "399回目: theta = [396.54490274  95.70134598  28.55240079], 差分 = 8.8647\n",
            "400回目: theta = [396.62595667  95.69650179  28.50594429], 差分 = 8.7141\n",
            "401回目: theta = [396.70631865  95.69169004  28.45988403], 差分 = 8.5661\n",
            "402回目: theta = [396.7859946   95.68691064  28.41421663], 差分 = 8.4205\n",
            "403回目: theta = [396.86499037  95.68216347  28.36893875], 差分 = 8.2775\n",
            "404回目: theta = [396.94331179  95.67744843  28.32404705], 差分 = 8.1369\n",
            "405回目: theta = [397.02096461  95.67276543  28.27953825], 差分 = 7.9987\n",
            "406回目: theta = [397.09795456  95.66811434  28.23540907], 差分 = 7.8628\n",
            "407回目: theta = [397.17428728  95.66349506  28.19165629], 差分 = 7.7292\n",
            "408回目: theta = [397.24996841  95.65890747  28.14827668], 差分 = 7.5979\n",
            "409回目: theta = [397.32500351  95.65435146  28.10526708], 差分 = 7.4689\n",
            "410回目: theta = [397.3993981   95.6498269   28.06262431], 差分 = 7.3420\n",
            "411回目: theta = [397.47315765  95.64533369  28.02034526], 差分 = 7.2173\n",
            "412回目: theta = [397.54628759  95.64087169  27.97842682], 差分 = 7.0947\n",
            "413回目: theta = [397.6187933   95.63644078  27.93686591], 差分 = 6.9741\n",
            "414回目: theta = [397.69068012  95.63204083  27.89565949], 差分 = 6.8557\n",
            "415回目: theta = [397.76195333  95.62767173  27.85480453], 差分 = 6.7392\n",
            "416回目: theta = [397.83261817  95.62333333  27.81429804], 差分 = 6.6247\n",
            "417回目: theta = [397.90267985  95.61902551  27.77413703], 差分 = 6.5122\n",
            "418回目: theta = [397.97214351  95.61474814  27.73431857], 差分 = 6.4016\n",
            "419回目: theta = [398.04101427  95.61050108  27.69483974], 差分 = 6.2928\n",
            "420回目: theta = [398.10929719  95.6062842   27.65569763], 差分 = 6.1859\n",
            "421回目: theta = [398.17699729  95.60209735  27.61688937], 差分 = 6.0809\n",
            "422回目: theta = [398.24411956  95.59794041  27.57841212], 差分 = 5.9776\n",
            "423回目: theta = [398.31066892  95.59381324  27.54026306], 差分 = 5.8760\n",
            "424回目: theta = [398.37665028  95.58971568  27.50243938], 差分 = 5.7762\n",
            "425回目: theta = [398.44206849  95.58564761  27.46493831], 差分 = 5.6781\n",
            "426回目: theta = [398.50692835  95.58160888  27.4277571 ], 差分 = 5.5816\n",
            "427回目: theta = [398.57123465  95.57759935  27.39089302], 差分 = 5.4868\n",
            "428回目: theta = [398.63499209  95.57361887  27.35434336], 差分 = 5.3936\n",
            "429回目: theta = [398.69820538  95.5696673   27.31810544], 差分 = 5.3020\n",
            "430回目: theta = [398.76087917  95.56574449  27.28217661], 差分 = 5.2119\n",
            "431回目: theta = [398.82301805  95.5618503   27.24655423], 差分 = 5.1234\n",
            "432回目: theta = [398.88462661  95.55798458  27.21123568], 差分 = 5.0364\n",
            "433回目: theta = [398.94570936  95.55414718  27.17621837], 差分 = 4.9508\n",
            "434回目: theta = [399.00627081  95.55033795  27.14149973], 差分 = 4.8667\n",
            "435回目: theta = [399.0663154   95.54655675  27.10707722], 差分 = 4.7841\n",
            "436回目: theta = [399.12584754  95.54280342  27.07294831], 差分 = 4.7028\n",
            "437回目: theta = [399.18487163  95.53907781  27.0391105 ], 差分 = 4.6229\n",
            "438回目: theta = [399.24339198  95.53537978  27.0055613 ], 差分 = 4.5444\n",
            "439回目: theta = [399.30141292  95.53170916  26.97229825], 差分 = 4.4672\n",
            "440回目: theta = [399.35893869  95.52806582  26.9393189 ], 差分 = 4.3913\n",
            "441回目: theta = [399.41597354  95.5244496   26.90662085], 差分 = 4.3167\n",
            "442回目: theta = [399.47252165  95.52086034  26.8742017 ], 差分 = 4.2434\n",
            "443回目: theta = [399.52858719  95.5172979   26.84205905], 差分 = 4.1713\n",
            "444回目: theta = [399.58417426  95.51376211  26.81019056], 差分 = 4.1005\n",
            "445回目: theta = [399.63928697  95.51025284  26.77859388], 差分 = 4.0308\n",
            "446回目: theta = [399.69392935  95.50676992  26.7472667 ], 差分 = 3.9623\n",
            "447回目: theta = [399.74810543  95.50331321  26.71620672], 差分 = 3.8950\n",
            "448回目: theta = [399.80181919  95.49988254  26.68541166], 差分 = 3.8289\n",
            "449回目: theta = [399.85507457  95.49647776  26.65487926], 差分 = 3.7638\n",
            "450回目: theta = [399.90787549  95.49309873  26.62460728], 差分 = 3.6999\n",
            "451回目: theta = [399.96022584  95.48974529  26.5945935 ], 差分 = 3.6371\n",
            "452回目: theta = [400.01212945  95.48641728  26.56483571], 差分 = 3.5753\n",
            "453回目: theta = [400.06359015  95.48311455  26.53533174], 差分 = 3.5145\n",
            "454回目: theta = [400.11461171  95.47983695  26.50607942], 差分 = 3.4548\n",
            "455回目: theta = [400.16519789  95.47658432  26.47707659], 差分 = 3.3962\n",
            "456回目: theta = [400.2153524   95.47335651  26.44832115], 差分 = 3.3385\n",
            "457回目: theta = [400.26507893  95.47015337  26.41981096], 差分 = 3.2818\n",
            "458回目: theta = [400.31438113  95.46697474  26.39154395], 差分 = 3.2260\n",
            "459回目: theta = [400.36326263  95.46382048  26.36351803], 差分 = 3.1712\n",
            "460回目: theta = [400.41172701  95.46069042  26.33573116], 差分 = 3.1174\n",
            "461回目: theta = [400.45977785  95.45758442  26.30818128], 差分 = 3.0644\n",
            "462回目: theta = [400.50741867  95.45450232  26.28086639], 差分 = 3.0123\n",
            "463回目: theta = [400.55465297  95.45144397  26.25378448], 差分 = 2.9612\n",
            "464回目: theta = [400.60148422  95.44840923  26.22693355], 差分 = 2.9109\n",
            "465回目: theta = [400.64791586  95.44539793  26.20031165], 差分 = 2.8614\n",
            "466回目: theta = [400.69395131  95.44240992  26.17391681], 差分 = 2.8128\n",
            "467回目: theta = [400.73959395  95.43944507  26.1477471 ], 差分 = 2.7651\n",
            "468回目: theta = [400.78484713  95.4365032   26.1218006 ], 差分 = 2.7181\n",
            "469回目: theta = [400.82971417  95.43358419  26.0960754 ], 差分 = 2.6719\n",
            "470回目: theta = [400.87419838  95.43068786  26.07056962], 差分 = 2.6265\n",
            "471回目: theta = [400.91830302  95.42781409  26.04528139], 差分 = 2.5819\n",
            "472回目: theta = [400.96203133  95.4249627   26.02020885], 差分 = 2.5381\n",
            "473回目: theta = [401.00538653  95.42213357  25.99535016], 差分 = 2.4949\n",
            "474回目: theta = [401.0483718   95.41932654  25.9707035 ], 差分 = 2.4526\n",
            "475回目: theta = [401.09099029  95.41654145  25.94626705], 差分 = 2.4109\n",
            "476回目: theta = [401.13324514  95.41377817  25.92203904], 差分 = 2.3700\n",
            "477回目: theta = [401.17513946  95.41103655  25.89801767], 差分 = 2.3297\n",
            "478回目: theta = [401.21667632  95.40831644  25.87420118], 差分 = 2.2901\n",
            "479回目: theta = [401.25785877  95.40561769  25.85058783], 差分 = 2.2512\n",
            "480回目: theta = [401.29868984  95.40294016  25.82717589], 差分 = 2.2130\n",
            "481回目: theta = [401.33917252  95.40028371  25.80396364], 差分 = 2.1754\n",
            "482回目: theta = [401.3793098   95.39764818  25.78094937], 差分 = 2.1384\n",
            "483回目: theta = [401.41910461  95.39503344  25.75813139], 差分 = 2.1021\n",
            "484回目: theta = [401.45855989  95.39243934  25.73550804], 差分 = 2.0664\n",
            "485回目: theta = [401.49767854  95.38986574  25.71307764], 差分 = 2.0313\n",
            "486回目: theta = [401.53646341  95.3873125   25.69083857], 差分 = 1.9968\n",
            "487回目: theta = [401.57491737  95.38477948  25.66878917], 差分 = 1.9629\n",
            "488回目: theta = [401.61304324  95.38226652  25.64692785], 差分 = 1.9296\n",
            "489回目: theta = [401.65084382  95.3797735   25.62525298], 差分 = 1.8968\n",
            "490回目: theta = [401.68832188  95.37730028  25.60376298], 差分 = 1.8646\n",
            "491回目: theta = [401.72548019  95.37484671  25.58245628], 差分 = 1.8329\n",
            "492回目: theta = [401.76232146  95.37241265  25.56133132], 差分 = 1.8018\n",
            "493回目: theta = [401.7988484   95.36999797  25.54038653], 差分 = 1.7711\n",
            "494回目: theta = [401.8350637   95.36760253  25.51962038], 差分 = 1.7411\n",
            "495回目: theta = [401.87097002  95.36522619  25.49903136], 差分 = 1.7115\n",
            "496回目: theta = [401.90656999  95.36286882  25.47861795], 差分 = 1.6824\n",
            "497回目: theta = [401.94186624  95.36053028  25.45837865], 差分 = 1.6538\n",
            "498回目: theta = [401.97686134  95.35821043  25.43831197], 差分 = 1.6257\n",
            "499回目: theta = [402.01155787  95.35590915  25.41841645], 差分 = 1.5981\n",
            "500回目: theta = [402.04595838  95.35362629  25.39869063], 差分 = 1.5710\n",
            "501回目: theta = [402.0800654   95.35136173  25.37913305], 差分 = 1.5443\n",
            "502回目: theta = [402.11388144  95.34911532  25.35974228], 差分 = 1.5181\n",
            "503回目: theta = [402.14740896  95.34688695  25.34051691], 差分 = 1.4923\n",
            "504回目: theta = [402.18065044  95.34467647  25.32145551], 差分 = 1.4669\n",
            "505回目: theta = [402.21360832  95.34248377  25.30255669], 差分 = 1.4420\n",
            "506回目: theta = [402.24628502  95.3403087   25.28381907], 差分 = 1.4175\n",
            "507回目: theta = [402.27868294  95.33815114  25.26524127], 差分 = 1.3934\n",
            "508回目: theta = [402.31080446  95.33601096  25.24682192], 差分 = 1.3698\n",
            "509回目: theta = [402.34265193  95.33388803  25.22855967], 差分 = 1.3465\n",
            "510回目: theta = [402.3742277   95.33178223  25.21045319], 差分 = 1.3236\n",
            "511回目: theta = [402.40553408  95.32969342  25.19250115], 差分 = 1.3012\n",
            "512回目: theta = [402.43657338  95.32762149  25.17470222], 差分 = 1.2791\n",
            "513回目: theta = [402.46734786  95.32556631  25.15705511], 差分 = 1.2573\n",
            "514回目: theta = [402.49785981  95.32352776  25.13955851], 差分 = 1.2360\n",
            "515回目: theta = [402.52811144  95.3215057   25.12221114], 差分 = 1.2150\n",
            "516回目: theta = [402.55810499  95.31950002  25.10501174], 差分 = 1.1943\n",
            "517回目: theta = [402.58784265  95.31751059  25.08795904], 差分 = 1.1741\n",
            "518回目: theta = [402.61732662  95.3155373   25.07105178], 差分 = 1.1541\n",
            "519回目: theta = [402.64655905  95.31358002  25.05428873], 差分 = 1.1345\n",
            "520回目: theta = [402.6755421   95.31163864  25.03766866], 差分 = 1.1152\n",
            "521回目: theta = [402.70427788  95.30971302  25.02119034], 差分 = 1.0963\n",
            "522回目: theta = [402.73276852  95.30780306  25.00485258], 差分 = 1.0777\n",
            "523回目: theta = [402.76101609  95.30590863  24.98865416], 差分 = 1.0594\n",
            "524回目: theta = [402.78902269  95.30402963  24.9725939 ], 差分 = 1.0414\n",
            "525回目: theta = [402.81679036  95.30216592  24.95667063], 差分 = 1.0237\n",
            "526回目: theta = [402.84432114  95.3003174   24.94088317], 差分 = 1.0063\n",
            "527回目: theta = [402.87161705  95.29848396  24.92523037], 差分 = 0.9892\n",
            "528回目: theta = [402.8986801   95.29666546  24.90971107], 差分 = 0.9724\n",
            "529回目: theta = [402.92551228  95.29486181  24.89432415], 差分 = 0.9559\n",
            "530回目: theta = [402.95211555  95.29307289  24.87906846], 差分 = 0.9396\n",
            "531回目: theta = [402.97849187  95.29129858  24.86394289], 差分 = 0.9237\n",
            "532回目: theta = [403.00464317  95.28953878  24.84894634], 差分 = 0.9080\n",
            "533回目: theta = [403.03057138  95.28779337  24.83407769], 差分 = 0.8926\n",
            "534回目: theta = [403.0562784   95.28606224  24.81933586], 差分 = 0.8774\n",
            "535回目: theta = [403.08176612  95.28434529  24.80471977], 差分 = 0.8625\n",
            "536回目: theta = [403.1070364   95.2826424   24.79022834], 差分 = 0.8479\n",
            "537回目: theta = [403.13209111  95.28095346  24.77586052], 差分 = 0.8335\n",
            "538回目: theta = [403.15693207  95.27927838  24.76161524], 差分 = 0.8193\n",
            "539回目: theta = [403.18156113  95.27761703  24.74749147], 差分 = 0.8054\n",
            "540回目: theta = [403.20598007  95.27596932  24.73348816], 差分 = 0.7917\n",
            "541回目: theta = [403.23019071  95.27433514  24.71960429], 差分 = 0.7783\n",
            "542回目: theta = [403.25419481  95.27271438  24.70583884], 差分 = 0.7650\n",
            "543回目: theta = [403.27799414  95.27110694  24.6921908 ], 差分 = 0.7520\n",
            "544回目: theta = [403.30159044  95.26951272  24.67865917], 差分 = 0.7393\n",
            "545回目: theta = [403.32498545  95.26793161  24.66524295], 差分 = 0.7267\n",
            "546回目: theta = [403.34818088  95.26636352  24.65194116], 差分 = 0.7144\n",
            "547回目: theta = [403.37117844  95.26480833  24.63875283], 差分 = 0.7022\n",
            "548回目: theta = [403.39397981  95.26326595  24.62567699], 差分 = 0.6903\n",
            "549回目: theta = [403.41658668  95.26173628  24.61271267], 差分 = 0.6786\n",
            "550回目: theta = [403.43900069  95.26021923  24.59985893], 差分 = 0.6671\n",
            "551回目: theta = [403.4612235   95.25871468  24.58711482], 差分 = 0.6557\n",
            "552回目: theta = [403.48325673  95.25722254  24.57447942], 差分 = 0.6446\n",
            "553回目: theta = [403.50510201  95.25574272  24.56195178], 差分 = 0.6336\n",
            "554回目: theta = [403.52676093  95.25427512  24.54953099], 差分 = 0.6229\n",
            "555回目: theta = [403.54823509  95.25281964  24.53721615], 差分 = 0.6123\n",
            "556回目: theta = [403.56952607  95.25137619  24.52500634], 差分 = 0.6019\n",
            "557回目: theta = [403.59063542  95.24994467  24.51290067], 差分 = 0.5917\n",
            "558回目: theta = [403.6115647   95.24852498  24.50089826], 差分 = 0.5816\n",
            "559回目: theta = [403.63231544  95.24711704  24.48899822], 差分 = 0.5717\n",
            "560回目: theta = [403.65288917  95.24572075  24.47719967], 差分 = 0.5620\n",
            "561回目: theta = [403.67328739  95.24433602  24.46550176], 差分 = 0.5525\n",
            "562回目: theta = [403.69351161  95.24296276  24.45390363], 差分 = 0.5431\n",
            "563回目: theta = [403.7135633   95.24160088  24.44240442], 差分 = 0.5339\n",
            "564回目: theta = [403.73344395  95.24025028  24.43100329], 差分 = 0.5248\n",
            "565回目: theta = [403.753155    95.23891087  24.4196994 ], 差分 = 0.5159\n",
            "566回目: theta = [403.77269791  95.23758258  24.40849193], 差分 = 0.5071\n",
            "567回目: theta = [403.79207412  95.2362653   24.39738004], 差分 = 0.4985\n",
            "568回目: theta = [403.81128503  95.23495896  24.38636294], 差分 = 0.4900\n",
            "569回目: theta = [403.83033207  95.23366346  24.3754398 ], 差分 = 0.4817\n",
            "570回目: theta = [403.84921664  95.23237872  24.36460983], 差分 = 0.4735\n",
            "571回目: theta = [403.86794011  95.23110464  24.35387223], 差分 = 0.4655\n",
            "572回目: theta = [403.88650386  95.22984116  24.34322622], 差分 = 0.4576\n",
            "573回目: theta = [403.90490926  95.22858818  24.33267101], 差分 = 0.4498\n",
            "574回目: theta = [403.92315765  95.22734561  24.32220583], 差分 = 0.4422\n",
            "575回目: theta = [403.94125038  95.22611338  24.31182991], 差分 = 0.4347\n",
            "576回目: theta = [403.95918878  95.2248914   24.30154248], 差分 = 0.4273\n",
            "577回目: theta = [403.97697415  95.22367959  24.2913428 ], 差分 = 0.4200\n",
            "578回目: theta = [403.99460781  95.22247787  24.28123012], 差分 = 0.4129\n",
            "579回目: theta = [404.01209106  95.22128615  24.27120369], 差分 = 0.4059\n",
            "580回目: theta = [404.02942516  95.22010436  24.26126279], 差分 = 0.3990\n",
            "581回目: theta = [404.0466114   95.21893241  24.25140666], 差分 = 0.3922\n",
            "582回目: theta = [404.06365104  95.21777023  24.24163461], 差分 = 0.3855\n",
            "583回目: theta = [404.08054533  95.21661774  24.2319459 ], 差分 = 0.3790\n",
            "584回目: theta = [404.0972955   95.21547486  24.22233984], 差分 = 0.3726\n",
            "585回目: theta = [404.1139028   95.21434151  24.2128157 ], 差分 = 0.3662\n",
            "586回目: theta = [404.13036843  95.21321762  24.2033728 ], 差分 = 0.3600\n",
            "587回目: theta = [404.1466936   95.21210311  24.19401044], 差分 = 0.3539\n",
            "588回目: theta = [404.16287952  95.2109979   24.18472793], 差分 = 0.3479\n",
            "589回目: theta = [404.17892737  95.20990191  24.1755246 ], 差分 = 0.3420\n",
            "590回目: theta = [404.19483833  95.20881508  24.16639977], 差分 = 0.3362\n",
            "591回目: theta = [404.21061357  95.20773733  24.15735276], 差分 = 0.3305\n",
            "592回目: theta = [404.22625424  95.20666858  24.14838292], 差分 = 0.3248\n",
            "593回目: theta = [404.2417615   95.20560877  24.13948958], 差分 = 0.3193\n",
            "594回目: theta = [404.25713648  95.20455781  24.1306721 ], 差分 = 0.3139\n",
            "595回目: theta = [404.27238031  95.20351565  24.12192983], 差分 = 0.3086\n",
            "596回目: theta = [404.2874941   95.2024822   24.11326212], 差分 = 0.3033\n",
            "597回目: theta = [404.30247898  95.20145739  24.10466834], 差分 = 0.2982\n",
            "598回目: theta = [404.31733603  95.20044116  24.09614786], 差分 = 0.2931\n",
            "599回目: theta = [404.33206636  95.19943343  24.08770005], 差分 = 0.2881\n",
            "600回目: theta = [404.34667103  95.19843414  24.0793243 ], 差分 = 0.2832\n",
            "601回目: theta = [404.36115112  95.19744322  24.07101999], 差分 = 0.2784\n",
            "602回目: theta = [404.3755077  95.1964606  24.0627865], 差分 = 0.2737\n",
            "603回目: theta = [404.38974181  95.1954862   24.05462324], 差分 = 0.2690\n",
            "604回目: theta = [404.40385451  95.19451998  24.04652961], 差分 = 0.2645\n",
            "605回目: theta = [404.41784683  95.19356184  24.03850502], 差分 = 0.2600\n",
            "606回目: theta = [404.43171979  95.19261174  24.03054886], 差分 = 0.2556\n",
            "607回目: theta = [404.44547442  95.19166961  24.02266057], 差分 = 0.2512\n",
            "608回目: theta = [404.45911172  95.19073537  24.01483956], 差分 = 0.2470\n",
            "609回目: theta = [404.4726327   95.18980897  24.00708525], 差分 = 0.2428\n",
            "610回目: theta = [404.48603834  95.18889035  23.99939709], 差分 = 0.2386\n",
            "611回目: theta = [404.49932963  95.18797943  23.99177449], 差分 = 0.2346\n",
            "612回目: theta = [404.51250755  95.18707615  23.98421692], 差分 = 0.2306\n",
            "613回目: theta = [404.52557306  95.18618046  23.9767238 ], 差分 = 0.2267\n",
            "614回目: theta = [404.53852712  95.18529228  23.9692946 ], 差分 = 0.2228\n",
            "615回目: theta = [404.55137068  95.18441157  23.96192876], 差分 = 0.2191\n",
            "616回目: theta = [404.5641047   95.18353825  23.95462575], 差分 = 0.2153\n",
            "617回目: theta = [404.57673009  95.18267226  23.94738503], 差分 = 0.2117\n",
            "618回目: theta = [404.58924778  95.18181355  23.94020606], 差分 = 0.2081\n",
            "619回目: theta = [404.60165871  95.18096206  23.93308833], 差分 = 0.2045\n",
            "620回目: theta = [404.61396377  95.18011772  23.9260313 ], 差分 = 0.2011\n",
            "621回目: theta = [404.62616387  95.17928048  23.91903447], 差分 = 0.1977\n",
            "622回目: theta = [404.6382599   95.17845028  23.91209732], 差分 = 0.1943\n",
            "623回目: theta = [404.65025275  95.17762706  23.90521933], 差分 = 0.1910\n",
            "624回目: theta = [404.66214331  95.17681077  23.89840001], 差分 = 0.1878\n",
            "625回目: theta = [404.67393245  95.17600134  23.89163885], 差分 = 0.1846\n",
            "626回目: theta = [404.68562102  95.17519872  23.88493536], 差分 = 0.1814\n",
            "627回目: theta = [404.69720989  95.17440285  23.87828905], 差分 = 0.1783\n",
            "628回目: theta = [404.70869991  95.17361368  23.87169943], 差分 = 0.1753\n",
            "629回目: theta = [404.72009193  95.17283115  23.86516601], 差分 = 0.1723\n",
            "630回目: theta = [404.73138677  95.17205521  23.85868831], 差分 = 0.1694\n",
            "631回目: theta = [404.74258527  95.17128581  23.85226587], 差分 = 0.1665\n",
            "632回目: theta = [404.75368824  95.17052288  23.8458982 ], 差分 = 0.1637\n",
            "633回目: theta = [404.76469652  95.16976638  23.83958485], 差分 = 0.1609\n",
            "634回目: theta = [404.77561089  95.16901625  23.83332534], 差分 = 0.1582\n",
            "635回目: theta = [404.78643216  95.16827244  23.82711923], 差分 = 0.1555\n",
            "636回目: theta = [404.79716114  95.1675349   23.82096604], 差分 = 0.1529\n",
            "637回目: theta = [404.80779859  95.16680357  23.81486534], 差分 = 0.1503\n",
            "638回目: theta = [404.81834531  95.1660784   23.80881668], 差分 = 0.1477\n",
            "639回目: theta = [404.82880207  95.16535935  23.8028196 ], 差分 = 0.1452\n",
            "640回目: theta = [404.83916964  95.16464636  23.79687368], 差分 = 0.1427\n",
            "641回目: theta = [404.84944877  95.16393939  23.79097847], 差分 = 0.1403\n",
            "642回目: theta = [404.85964023  95.16323837  23.78513354], 差分 = 0.1379\n",
            "643回目: theta = [404.86974475  95.16254327  23.77933847], 差分 = 0.1356\n",
            "644回目: theta = [404.87976309  95.16185403  23.77359282], 差分 = 0.1333\n",
            "645回目: theta = [404.88969597  95.1611706   23.76789618], 差分 = 0.1310\n",
            "646回目: theta = [404.89954413  95.16049294  23.76224813], 差分 = 0.1288\n",
            "647回目: theta = [404.90930828  95.159821    23.75664825], 差分 = 0.1266\n",
            "648回目: theta = [404.91898915  95.15915473  23.75109614], 差分 = 0.1245\n",
            "649回目: theta = [404.92858745  95.15849409  23.74559138], 差分 = 0.1223\n",
            "650回目: theta = [404.93810387  95.15783902  23.74013357], 差分 = 0.1203\n",
            "651回目: theta = [404.94753912  95.15718948  23.73472232], 差分 = 0.1182\n",
            "652回目: theta = [404.95689389  95.15654542  23.72935721], 差分 = 0.1162\n",
            "653回目: theta = [404.96616887  95.15590681  23.72403787], 差分 = 0.1142\n",
            "654回目: theta = [404.97536473  95.15527358  23.7187639 ], 差分 = 0.1123\n",
            "655回目: theta = [404.98448216  95.15464571  23.71353491], 差分 = 0.1104\n",
            "656回目: theta = [404.99352182  95.15402314  23.70835053], 差分 = 0.1085\n",
            "657回目: theta = [405.00248437  95.15340583  23.70321036], 差分 = 0.1067\n",
            "658回目: theta = [405.01137048  95.15279373  23.69811403], 差分 = 0.1049\n",
            "659回目: theta = [405.02018079  95.15218681  23.69306117], 差分 = 0.1031\n",
            "660回目: theta = [405.02891595  95.15158502  23.68805141], 差分 = 0.1013\n",
            "661回目: theta = [405.0375766   95.15098831  23.68308438], 差分 = 0.0996\n",
            "662回目: theta = [405.04616338  95.15039665  23.67815971], 差分 = 0.0979\n",
            "663回目: theta = [405.05467692  95.14980999  23.67327705], 差分 = 0.0963\n",
            "664回目: theta = [405.06311784  95.14922829  23.66843603], 差分 = 0.0946\n",
            "665回目: theta = [405.07148676  95.1486515   23.6636363 ], 差分 = 0.0930\n",
            "666回目: theta = [405.0797843   95.1480796   23.65887752], 差分 = 0.0914\n",
            "667回目: theta = [405.08801107  95.14751253  23.65415932], 差分 = 0.0899\n",
            "668回目: theta = [405.09616766  95.14695026  23.64948136], 差分 = 0.0884\n",
            "669回目: theta = [405.10425468  95.14639274  23.6448433 ], 差分 = 0.0869\n",
            "670回目: theta = [405.11227272  95.14583995  23.64024481], 差分 = 0.0854\n",
            "671回目: theta = [405.12022237  95.14529182  23.63568553], 差分 = 0.0839\n",
            "672回目: theta = [405.12810421  95.14474834  23.63116514], 差分 = 0.0825\n",
            "673回目: theta = [405.13591882  95.14420945  23.62668331], 差分 = 0.0811\n",
            "674回目: theta = [405.14366678  95.14367513  23.6222397 ], 差分 = 0.0797\n",
            "675回目: theta = [405.15134865  95.14314533  23.617834  ], 差分 = 0.0784\n",
            "676回目: theta = [405.158965    95.14262001  23.61346587], 差分 = 0.0770\n",
            "677回目: theta = [405.16651638  95.14209914  23.609135  ], 差分 = 0.0757\n",
            "678回目: theta = [405.17400335  95.14158268  23.60484107], 差分 = 0.0744\n",
            "679回目: theta = [405.18142646  95.14107059  23.60058377], 差分 = 0.0732\n",
            "680回目: theta = [405.18878626  95.14056284  23.59636277], 差分 = 0.0719\n",
            "681回目: theta = [405.19608328  95.14005939  23.59217778], 差分 = 0.0707\n",
            "682回目: theta = [405.20331806  95.1395602   23.58802848], 差分 = 0.0695\n",
            "683回目: theta = [405.21049113  95.13906524  23.58391457], 差分 = 0.0683\n",
            "684回目: theta = [405.21760301  95.13857447  23.57983576], 差分 = 0.0672\n",
            "685回目: theta = [405.22465424  95.13808786  23.57579173], 差分 = 0.0660\n",
            "686回目: theta = [405.23164532  95.13760537  23.57178219], 差分 = 0.0649\n",
            "687回目: theta = [405.23857677  95.13712697  23.56780685], 差分 = 0.0638\n",
            "688回目: theta = [405.2454491   95.13665263  23.56386542], 差分 = 0.0627\n",
            "689回目: theta = [405.25226281  95.1361823   23.55995761], 差分 = 0.0617\n",
            "690回目: theta = [405.2590184   95.13571596  23.55608313], 差分 = 0.0606\n",
            "691回目: theta = [405.26571637  95.13525357  23.55224169], 差分 = 0.0596\n",
            "692回目: theta = [405.27235721  95.1347951   23.54843302], 差分 = 0.0586\n",
            "693回目: theta = [405.2789414   95.13434051  23.54465683], 差分 = 0.0576\n",
            "694回目: theta = [405.28546944  95.13388978  23.54091286], 差分 = 0.0566\n",
            "695回目: theta = [405.29194179  95.13344287  23.53720081], 差分 = 0.0556\n",
            "696回目: theta = [405.29835894  95.13299975  23.53352043], 差分 = 0.0547\n",
            "697回目: theta = [405.30472135  95.13256039  23.52987144], 差分 = 0.0538\n",
            "698回目: theta = [405.3110295   95.13212475  23.52625357], 差分 = 0.0528\n",
            "699回目: theta = [405.31728383  95.1316928   23.52266656], 差分 = 0.0519\n",
            "700回目: theta = [405.32348483  95.13126452  23.51911014], 差分 = 0.0511\n",
            "701回目: theta = [405.32963293  95.13083987  23.51558406], 差分 = 0.0502\n",
            "702回目: theta = [405.33572859  95.13041883  23.51208805], 差分 = 0.0493\n",
            "703回目: theta = [405.34177225  95.13000135  23.50862187], 差分 = 0.0485\n",
            "704回目: theta = [405.34776437  95.12958741  23.50518524], 差分 = 0.0477\n",
            "705回目: theta = [405.35370538  95.12917699  23.50177793], 差分 = 0.0469\n",
            "706回目: theta = [405.35959571  95.12877005  23.49839968], 差分 = 0.0461\n",
            "707回目: theta = [405.36543581  95.12836656  23.49505024], 差分 = 0.0453\n",
            "708回目: theta = [405.37122608  95.1279665   23.49172937], 差分 = 0.0445\n",
            "709回目: theta = [405.37696698  95.12756982  23.48843683], 差分 = 0.0438\n",
            "710回目: theta = [405.3826589   95.12717652  23.48517237], 差分 = 0.0430\n",
            "711回目: theta = [405.38830227  95.12678655  23.48193575], 差分 = 0.0423\n",
            "712回目: theta = [405.39389751  95.1263999   23.47872674], 差分 = 0.0416\n",
            "713回目: theta = [405.39944503  95.12601652  23.4755451 ], 差分 = 0.0409\n",
            "714回目: theta = [405.40494523  95.1256364   23.4723906 ], 差分 = 0.0402\n",
            "715回目: theta = [405.41039851  95.1252595   23.469263  ], 差分 = 0.0395\n",
            "716回目: theta = [405.41580528  95.12488581  23.46616208], 差分 = 0.0388\n",
            "717回目: theta = [405.42116593  95.12451528  23.46308761], 差分 = 0.0382\n",
            "718回目: theta = [405.42648086  95.12414791  23.46003936], 差分 = 0.0375\n",
            "719回目: theta = [405.43175046  95.12378365  23.45701711], 差分 = 0.0369\n",
            "720回目: theta = [405.43697511  95.12342248  23.45402064], 差分 = 0.0363\n",
            "721回目: theta = [405.44215519  95.12306438  23.45104972], 差分 = 0.0356\n",
            "722回目: theta = [405.44729109  95.12270932  23.44810415], 差分 = 0.0350\n",
            "723回目: theta = [405.45238319  95.12235728  23.44518369], 差分 = 0.0344\n",
            "724回目: theta = [405.45743185  95.12200823  23.44228815], 差分 = 0.0339\n",
            "725回目: theta = [405.46243745  95.12166214  23.43941731], 差分 = 0.0333\n",
            "726回目: theta = [405.46740035  95.12131899  23.43657095], 差分 = 0.0327\n",
            "727回目: theta = [405.47232093  95.12097875  23.43374887], 差分 = 0.0322\n",
            "728回目: theta = [405.47719953  95.12064141  23.43095086], 差分 = 0.0316\n",
            "729回目: theta = [405.48203652  95.12030693  23.42817671], 差分 = 0.0311\n",
            "730回目: theta = [405.48683226  95.11997529  23.42542623], 差分 = 0.0305\n",
            "731回目: theta = [405.49158709  95.11964647  23.4226992 ], 差分 = 0.0300\n",
            "732回目: theta = [405.49630136  95.11932044  23.41999544], 差分 = 0.0295\n",
            "733回目: theta = [405.50097543  95.11899718  23.41731473], 差分 = 0.0290\n",
            "734回目: theta = [405.50560963  95.11867667  23.4146569 ], 差分 = 0.0285\n",
            "735回目: theta = [405.51020429  95.11835888  23.41202173], 差分 = 0.0280\n",
            "736回目: theta = [405.51475977  95.1180438   23.40940903], 差分 = 0.0276\n",
            "737回目: theta = [405.5192764   95.11773139  23.40681862], 差分 = 0.0271\n",
            "738回目: theta = [405.5237545   95.11742163  23.40425031], 差分 = 0.0266\n",
            "739回目: theta = [405.5281944   95.11711451  23.4017039 ], 差分 = 0.0262\n",
            "740回目: theta = [405.53259644  95.11681     23.39917921], 差分 = 0.0257\n",
            "741回目: theta = [405.53696092  95.11650807  23.39667605], 差分 = 0.0253\n",
            "742回目: theta = [405.54128818  95.11620871  23.39419425], 差分 = 0.0249\n",
            "743回目: theta = [405.54557853  95.1159119   23.39173361], 差分 = 0.0244\n",
            "744回目: theta = [405.54983229  95.11561761  23.38929396], 差分 = 0.0240\n",
            "745回目: theta = [405.55404977  95.11532582  23.38687512], 差分 = 0.0236\n",
            "746回目: theta = [405.55823127  95.11503651  23.38447691], 差分 = 0.0232\n",
            "747回目: theta = [405.56237711  95.11474966  23.38209915], 差分 = 0.0228\n",
            "748回目: theta = [405.56648758  95.11446525  23.37974168], 差分 = 0.0224\n",
            "749回目: theta = [405.57056299  95.11418326  23.37740431], 差分 = 0.0221\n",
            "750回目: theta = [405.57460365  95.11390366  23.37508688], 差分 = 0.0217\n",
            "751回目: theta = [405.57860984  95.11362644  23.37278921], 差分 = 0.0213\n",
            "752回目: theta = [405.58258186  95.11335158  23.37051115], 差分 = 0.0210\n",
            "753回目: theta = [405.58652     95.11307906  23.36825251], 差分 = 0.0206\n",
            "754回目: theta = [405.59042455  95.11280885  23.36601313], 差分 = 0.0202\n",
            "755回目: theta = [405.59429579  95.11254094  23.36379286], 差分 = 0.0199\n",
            "756回目: theta = [405.59813402  95.11227531  23.36159153], 差分 = 0.0196\n",
            "757回目: theta = [405.60193951  95.11201194  23.35940897], 差分 = 0.0192\n",
            "758回目: theta = [405.60571254  95.11175081  23.35724502], 差分 = 0.0189\n",
            "759回目: theta = [405.60945339  95.11149189  23.35509954], 差分 = 0.0186\n",
            "760回目: theta = [405.61316233  95.11123519  23.35297235], 差分 = 0.0183\n",
            "761回目: theta = [405.61683964  95.11098066  23.35086331], 差分 = 0.0180\n",
            "762回目: theta = [405.62048558  95.1107283   23.34877225], 差分 = 0.0177\n",
            "763回目: theta = [405.62410042  95.11047808  23.34669903], 差分 = 0.0174\n",
            "764回目: theta = [405.62768443  95.11023     23.34464349], 差分 = 0.0171\n",
            "765回目: theta = [405.63123787  95.10998402  23.34260549], 差分 = 0.0168\n",
            "766回目: theta = [405.63476101  95.10974014  23.34058487], 差分 = 0.0165\n",
            "767回目: theta = [405.63825409  95.10949833  23.33858148], 差分 = 0.0162\n",
            "768回目: theta = [405.64171738  95.10925858  23.33659518], 差分 = 0.0159\n",
            "769回目: theta = [405.64515113  95.10902087  23.33462582], 差分 = 0.0157\n",
            "770回目: theta = [405.64855559  95.10878518  23.33267326], 差分 = 0.0154\n",
            "771回目: theta = [405.65193101  95.10855149  23.33073735], 差分 = 0.0151\n",
            "772回目: theta = [405.65527764  95.1083198   23.32881796], 差分 = 0.0149\n",
            "773回目: theta = [405.65859573  95.10809007  23.32691493], 差分 = 0.0146\n",
            "774回目: theta = [405.66188552  95.1078623   23.32502814], 差分 = 0.0144\n",
            "775回目: theta = [405.66514724  95.10763647  23.32315744], 差分 = 0.0141\n",
            "776回目: theta = [405.66838115  95.10741256  23.3213027 ], 差分 = 0.0139\n",
            "777回目: theta = [405.67158747  95.10719056  23.31946377], 差分 = 0.0137\n",
            "778回目: theta = [405.67476645  95.10697044  23.31764053], 差分 = 0.0134\n",
            "779回目: theta = [405.67791831  95.1067522   23.31583284], 差分 = 0.0132\n",
            "780回目: theta = [405.68104329  95.10653581  23.31404057], 差分 = 0.0130\n",
            "781回目: theta = [405.68414161  95.10632127  23.31226359], 差分 = 0.0127\n",
            "782回目: theta = [405.68721351  95.10610855  23.31050176], 差分 = 0.0125\n",
            "783回目: theta = [405.6902592   95.10589764  23.30875496], 差分 = 0.0123\n",
            "784回目: theta = [405.69327892  95.10568853  23.30702306], 差分 = 0.0121\n",
            "785回目: theta = [405.69627288  95.1054812   23.30530593], 差分 = 0.0119\n",
            "786回目: theta = [405.6992413   95.10527563  23.30360345], 差分 = 0.0117\n",
            "787回目: theta = [405.70218441  95.10507181  23.30191549], 差分 = 0.0115\n",
            "788回目: theta = [405.70510241  95.10486973  23.30024192], 差分 = 0.0113\n",
            "789回目: theta = [405.70799552  95.10466937  23.29858263], 差分 = 0.0111\n",
            "790回目: theta = [405.71086396  95.10447071  23.29693749], 差分 = 0.0109\n",
            "791回目: theta = [405.71370793  95.10427374  23.29530639], 差分 = 0.0107\n",
            "792回目: theta = [405.71652764  95.10407845  23.29368919], 差分 = 0.0106\n",
            "793回目: theta = [405.71932331  95.10388482  23.29208579], 差分 = 0.0104\n",
            "794回目: theta = [405.72209512  95.10369285  23.29049607], 差分 = 0.0102\n",
            "795回目: theta = [405.7248433  95.1035025  23.2889199], 差分 = 0.0100\n",
            "796回目: theta = [405.72756804  95.10331378  23.28735718], 差分 = 0.0099\n"
          ],
          "name": "stdout"
        }
      ]
    },
    {
      "cell_type": "code",
      "metadata": {
        "id": "kbYzcayU8Vjt",
        "colab_type": "code",
        "outputId": "05f36f1a-d18d-4019-c19e-3539e9a86a12",
        "colab": {
          "base_uri": "https://localhost:8080/",
          "height": 265
        }
      },
      "source": [
        "# プロットして確認\n",
        "x = np.linspace(-3, 3, 100)\n",
        "plt.plot(train_z, train_y, 'o')\n",
        "plt.plot(x, f(to_matrix(x)))\n",
        "plt.show()"
      ],
      "execution_count": 40,
      "outputs": [
        {
          "output_type": "display_data",
          "data": {
            "image/png": "[encoded data removed]",
            "text/plain": [
              "<Figure size 432x288 with 1 Axes>"
            ]
          },
          "metadata": {
            "tags": []
          }
        }
      ]
    },
    {
      "cell_type": "markdown",
      "metadata": {
        "id": "Trjnm-mT82Bq",
        "colab_type": "text"
      },
      "source": [
        "## 平均二乗誤差の確認"
      ]
    },
    {
      "cell_type": "code",
      "metadata": {
        "id": "o37A2uYM86UI",
        "colab_type": "code",
        "colab": {}
      },
      "source": [
        "# 平均二乗誤差\n",
        "def MSE(x, y):\n",
        "    return (1 / x.shape[0]) * np.sum((y - f(x)) ** 2)"
      ],
      "execution_count": 0,
      "outputs": []
    },
    {
      "cell_type": "code",
      "metadata": {
        "id": "i1go_9Cm9CLi",
        "colab_type": "code",
        "colab": {}
      },
      "source": [
        "# 学習率\n",
        "ETA = 1e-3\n",
        "\n",
        "# パラメタをランダムに初期化\n",
        "theta = np.random.rand(3)\n",
        "\n",
        "# 平均二乗誤差の履歴\n",
        "errors = []\n",
        "\n",
        "# 誤差の差分\n",
        "diff = 1\n",
        "\n",
        "# 学習を繰り返す\n",
        "errors.append(MSE(X, train_y))\n",
        "while diff > 1e-2:\n",
        "    theta = theta - ETA*np.dot(f(X) - train_y, X)\n",
        "    errors.append(MSE(X, train_y))\n",
        "    diff = errors[-2] - errors[-1]"
      ],
      "execution_count": 0,
      "outputs": []
    },
    {
      "cell_type": "code",
      "metadata": {
        "id": "2OAhs112-B2Z",
        "colab_type": "code",
        "colab": {
          "base_uri": "https://localhost:8080/",
          "height": 284
        },
        "outputId": "446b3a46-a771-428d-f25f-71432d5e2730"
      },
      "source": [
        "# 誤差をプロット\n",
        "x = np.arange(len(errors))\n",
        "plt.plot(x, errors)"
      ],
      "execution_count": 43,
      "outputs": [
        {
          "output_type": "execute_result",
          "data": {
            "text/plain": [
              "[<matplotlib.lines.Line2D at 0x7fae4d8a48d0>]"
            ]
          },
          "metadata": {
            "tags": []
          },
          "execution_count": 43
        },
        {
          "output_type": "display_data",
          "data": {
            "image/png": "[encoded data removed]",
            "text/plain": [
              "<Figure size 432x288 with 1 Axes>"
            ]
          },
          "metadata": {
            "tags": []
          }
        }
      ]
    },
    {
      "cell_type": "markdown",
      "metadata": {
        "id": "wQWEIAuLwMNB",
        "colab_type": "text"
      },
      "source": [
        "## 確率的勾配降下法"
      ]
    },
    {
      "cell_type": "code",
      "metadata": {
        "id": "qRcWRxHFwQnq",
        "colab_type": "code",
        "colab": {}
      },
      "source": [
        "# パラメタをランダムに初期化\n",
        "theta = np.random.rand(3) # ランダムな数値を3つ作成\n",
        "\n",
        "# 平均二乗誤差の履歴\n",
        "errors = []\n",
        "\n",
        "# 誤差の差分\n",
        "diff = 1"
      ],
      "execution_count": 0,
      "outputs": []
    },
    {
      "cell_type": "code",
      "metadata": {
        "id": "4YznMowawYTa",
        "colab_type": "code",
        "colab": {}
      },
      "source": [
        "# 学習を繰り替えす\n",
        "errors.append(MSE(X, train_y))\n",
        "while diff > 1e-2:\n",
        "  # 学習データを並べ替えるためにランダムな順列を用意する\n",
        "  p = np.random.permutation(X.shape[0])\n",
        "  # 学習データをランダムに取り出して確率的勾配降下法でパラメタ更新\n",
        "  for x, y in zip(X[p, :], train_y[p]):\n",
        "    theta = theta - ETA*(f(x) - y)*x\n",
        "  # 前回の誤差との差分を計算\n",
        "  errors.append(MSE(X, train_y))\n",
        "  diff = errors[-2] - errors[-1]"
      ],
      "execution_count": 0,
      "outputs": []
    },
    {
      "cell_type": "code",
      "metadata": {
        "id": "yCJxZklMw9bn",
        "colab_type": "code",
        "colab": {
          "base_uri": "https://localhost:8080/",
          "height": 282
        },
        "outputId": "43469032-3267-44f1-dc51-a8c76815d249"
      },
      "source": [
        "x = np.linspace(-3, 3, 100) # -3 から 3までを100刻みで\n",
        "\n",
        "plt.plot(train_z, train_y, \"o\")\n",
        "plt.plot(x, f(to_matrix(x)))"
      ],
      "execution_count": 50,
      "outputs": [
        {
          "output_type": "execute_result",
          "data": {
            "text/plain": [
              "[<matplotlib.lines.Line2D at 0x7fae4dce9518>]"
            ]
          },
          "metadata": {
            "tags": []
          },
          "execution_count": 50
        },
        {
          "output_type": "display_data",
          "data": {
            "image/png": "[encoded data removed]",
            "text/plain": [
              "<Figure size 432x288 with 1 Axes>"
            ]
          },
          "metadata": {
            "tags": []
          }
        }
      ]
    },
    {
      "cell_type": "markdown",
      "metadata": {
        "id": "lBS5fQcJxTK6",
        "colab_type": "text"
      },
      "source": [
        "## パーセプトロン"
      ]
    },
    {
      "cell_type": "code",
      "metadata": {
        "id": "ldxDRSgz0C3c",
        "colab_type": "code",
        "colab": {}
      },
      "source": [
        "# 学習データを読み込む\n",
        "train = np.loadtxt('./drive/My Drive/Colab Notebooks/機械学習を理解するための数学のきほん/images1.csv', delimiter=',', dtype='int', skiprows=1)\n",
        "train_x = train[:, 0:2]\n",
        "train_y = train[:, 2]"
      ],
      "execution_count": 0,
      "outputs": []
    },
    {
      "cell_type": "code",
      "metadata": {
        "id": "Oz4IPdhC08u9",
        "colab_type": "code",
        "colab": {
          "base_uri": "https://localhost:8080/",
          "height": 282
        },
        "outputId": "aae0d772-198f-468d-982d-308e84f4a152"
      },
      "source": [
        "plt.plot(train_x[train_y == 1, 0], train_x[train_y == 1, 1], \"o\")\n",
        "plt.plot(train_x[train_y == -1, 0], train_x[train_y == -1, 1], \"x\")\n",
        "plt.axis(\"scaled\")"
      ],
      "execution_count": 56,
      "outputs": [
        {
          "output_type": "execute_result",
          "data": {
            "text/plain": [
              "(2.4499999999999993, 520.55, 12.049999999999997, 494.95)"
            ]
          },
          "metadata": {
            "tags": []
          },
          "execution_count": 56
        },
        {
          "output_type": "display_data",
          "data": {
            "image/png": "[encoded data removed]",
            "text/plain": [
              "<Figure size 432x288 with 1 Axes>"
            ]
          },
          "metadata": {
            "tags": []
          }
        }
      ]
    },
    {
      "cell_type": "code",
      "metadata": {
        "id": "aSGcpmas47Dt",
        "colab_type": "code",
        "colab": {}
      },
      "source": [
        "# 重みの初期化\n",
        "w = np.random.rand(2)"
      ],
      "execution_count": 0,
      "outputs": []
    },
    {
      "cell_type": "code",
      "metadata": {
        "id": "3fw1JeYQ5FA-",
        "colab_type": "code",
        "colab": {}
      },
      "source": [
        "# 識別関数\n",
        "def f(x):\n",
        "  if np.dot(w, x) >= 0:\n",
        "    return 1\n",
        "  else:\n",
        "    return -1"
      ],
      "execution_count": 0,
      "outputs": []
    },
    {
      "cell_type": "code",
      "metadata": {
        "id": "CygCBRez5o77",
        "colab_type": "code",
        "colab": {
          "base_uri": "https://localhost:8080/",
          "height": 187
        },
        "outputId": "37392801-adc6-4ab1-f6b2-6bffb49e0d22"
      },
      "source": [
        "# 繰り返し回数\n",
        "epoch = 10\n",
        "\n",
        "# 更新回数\n",
        "count = 0\n",
        "\n",
        "# 重みを学習する\n",
        "for _ in range(epoch):\n",
        "  for x, y in zip(train_x, train_y):\n",
        "    if f(x) != y:\n",
        "      w = w + y*x\n",
        "      # ログの出力\n",
        "      count += 1\n",
        "      print(\"{}回目: w = {}\".format(count, w))"
      ],
      "execution_count": 60,
      "outputs": [
        {
          "output_type": "stream",
          "text": [
            "1回目: w = [-152.46301891 -431.64246856]\n",
            "2回目: w = [321.53698109 -47.64246856]\n",
            "3回目: w = [  88.53698109 -477.64246856]\n",
            "4回目: w = [ 484.53698109 -156.64246856]\n",
            "5回目: w = [  85.53698109 -589.64246856]\n",
            "6回目: w = [ 488.53698109 -289.64246856]\n",
            "7回目: w = [ 109.53698109 -705.64246856]\n",
            "8回目: w = [ 372.53698109 -593.64246856]\n",
            "9回目: w = [ 846.53698109 -209.64246856]\n",
            "10回目: w = [ 613.53698109 -639.64246856]\n"
          ],
          "name": "stdout"
        }
      ]
    },
    {
      "cell_type": "code",
      "metadata": {
        "id": "VKErdXCz7DZN",
        "colab_type": "code",
        "colab": {
          "base_uri": "https://localhost:8080/",
          "height": 285
        },
        "outputId": "0d42a138-8076-476c-972c-64800af5a0d3"
      },
      "source": [
        "x1 = np.arange(0, 500)\n",
        "\n",
        "plt.plot(train_x[train_y == 1, 0], train_x[train_y == 1, 1], \"o\")\n",
        "plt.plot(train_x[train_y == -1, 0], train_x[train_y == -1, 1], \"x\")\n",
        "\n",
        "plt.plot(x1, -w[0] / w[1] * x1, linestyle = \"dashed\")"
      ],
      "execution_count": 62,
      "outputs": [
        {
          "output_type": "execute_result",
          "data": {
            "text/plain": [
              "[<matplotlib.lines.Line2D at 0x7fae4d3119b0>]"
            ]
          },
          "metadata": {
            "tags": []
          },
          "execution_count": 62
        },
        {
          "output_type": "display_data",
          "data": {
            "image/png": "[encoded data removed]",
            "text/plain": [
              "<Figure size 432x288 with 1 Axes>"
            ]
          },
          "metadata": {
            "tags": []
          }
        }
      ]
    },
    {
      "cell_type": "markdown",
      "metadata": {
        "id": "HTakZwVO_acv",
        "colab_type": "text"
      },
      "source": [
        "## ロジスティック回帰"
      ]
    },
    {
      "cell_type": "code",
      "metadata": {
        "id": "FtqA2WB0_cW6",
        "colab_type": "code",
        "colab": {}
      },
      "source": [
        "# 学習データを読み込む\n",
        "train = np.loadtxt('./drive/My Drive/Colab Notebooks/機械学習を理解するための数学のきほん/images2.csv', delimiter=',', dtype='int', skiprows=1)\n",
        "train_x = train[:, 0:2]\n",
        "train_y = train[:, 2]"
      ],
      "execution_count": 0,
      "outputs": []
    },
    {
      "cell_type": "code",
      "metadata": {
        "id": "gfeTKbhw_lWH",
        "colab_type": "code",
        "colab": {}
      },
      "source": [
        "# パラメタを初期化\n",
        "theta = np.random.rand(3)\n",
        "\n",
        "# 標準化\n",
        "mu = train_x.mean(axis=0)\n",
        "siguma = train_x.std(axis=0)\n",
        "\n",
        "def standardize(x):\n",
        "  return (x - mu)/siguma\n",
        "\n",
        "train_z = standardize(train_x)"
      ],
      "execution_count": 0,
      "outputs": []
    },
    {
      "cell_type": "code",
      "metadata": {
        "id": "z8BCEOIoANjd",
        "colab_type": "code",
        "colab": {}
      },
      "source": [
        "# x0を加える\n",
        "def to_matrix(x):\n",
        "  x0 = np.ones([x.shape[0], 1])\n",
        "  return np.hstack([x0, x])"
      ],
      "execution_count": 0,
      "outputs": []
    },
    {
      "cell_type": "code",
      "metadata": {
        "id": "Gtpm2fkgAcOV",
        "colab_type": "code",
        "colab": {}
      },
      "source": [
        "X = to_matrix(train_z)"
      ],
      "execution_count": 0,
      "outputs": []
    },
    {
      "cell_type": "code",
      "metadata": {
        "id": "iJ0sxzahBhzL",
        "colab_type": "code",
        "colab": {
          "base_uri": "https://localhost:8080/",
          "height": 357
        },
        "outputId": "a7a34aa4-d1b3-46e0-b033-822482dc852b"
      },
      "source": [
        "X"
      ],
      "execution_count": 72,
      "outputs": [
        {
          "output_type": "execute_result",
          "data": {
            "text/plain": [
              "array([[ 1.        , -0.99163844,  1.10606278],\n",
              "       [ 1.        , -0.54781896, -0.33533755],\n",
              "       [ 1.        , -1.22348444, -0.74232117],\n",
              "       [ 1.        ,  1.13472054,  0.69907916],\n",
              "       [ 1.        ,  1.20758642,  0.92800744],\n",
              "       [ 1.        , -0.46170474,  1.08910513],\n",
              "       [ 1.        ,  0.61803518,  0.16491315],\n",
              "       [ 1.        ,  1.20096225,  0.40232027],\n",
              "       [ 1.        ,  0.83663283, -0.36077402],\n",
              "       [ 1.        , -0.11062366, -0.69144821],\n",
              "       [ 1.        ,  0.63790769,  1.1145416 ],\n",
              "       [ 1.        ,  0.66440438, -0.01314218],\n",
              "       [ 1.        , -0.33584548, -2.26850974],\n",
              "       [ 1.        ,  1.28707648,  0.59733325],\n",
              "       [ 1.        ,  0.50542427,  0.97040157],\n",
              "       [ 1.        , -1.50169963, -1.17474126],\n",
              "       [ 1.        , -0.2629796 , -1.60716136],\n",
              "       [ 1.        , -1.83290819, -0.9203765 ],\n",
              "       [ 1.        , -1.6010622 ,  1.45369462],\n",
              "       [ 1.        ,  0.77701529, -0.41164697]])"
            ]
          },
          "metadata": {
            "tags": []
          },
          "execution_count": 72
        }
      ]
    },
    {
      "cell_type": "code",
      "metadata": {
        "id": "uneucg2HBpIX",
        "colab_type": "code",
        "colab": {
          "base_uri": "https://localhost:8080/",
          "height": 282
        },
        "outputId": "6c289cf7-01ec-48c2-eab4-3a7c16a9d49c"
      },
      "source": [
        "# 標準化したデータをプロット\n",
        "plt.plot(train_z[train_y == 1, 0], train_z[train_y == 1, 1], \"o\")\n",
        "plt.plot(train_z[train_y == 0, 0], train_z[train_y == 0, 1], \"x\")"
      ],
      "execution_count": 73,
      "outputs": [
        {
          "output_type": "execute_result",
          "data": {
            "text/plain": [
              "[<matplotlib.lines.Line2D at 0x7fae4d2b77f0>]"
            ]
          },
          "metadata": {
            "tags": []
          },
          "execution_count": 73
        },
        {
          "output_type": "display_data",
          "data": {
            "image/png": "[encoded data removed]",
            "text/plain": [
              "<Figure size 432x288 with 1 Axes>"
            ]
          },
          "metadata": {
            "tags": []
          }
        }
      ]
    },
    {
      "cell_type": "code",
      "metadata": {
        "id": "bGsydhr5B7ra",
        "colab_type": "code",
        "colab": {}
      },
      "source": [
        "# シグモイド関数\n",
        "def f(x):\n",
        "  return 1 / (1 + np.exp(-np.dot(x, theta)))"
      ],
      "execution_count": 0,
      "outputs": []
    },
    {
      "cell_type": "code",
      "metadata": {
        "id": "bCOV7bMiCFSJ",
        "colab_type": "code",
        "colab": {}
      },
      "source": [
        "# 学習率\n",
        "ETA = 1e-3\n",
        "\n",
        "# 繰り返し回数\n",
        "epoch = 5000\n",
        "\n",
        "# 学習を繰り返す\n",
        "for _ in range(epoch):\n",
        "  theta = theta - ETA * np.dot(f(X) - train_y, X)"
      ],
      "execution_count": 0,
      "outputs": []
    },
    {
      "cell_type": "code",
      "metadata": {
        "id": "EIxVzau5EQ_U",
        "colab_type": "code",
        "colab": {
          "base_uri": "https://localhost:8080/",
          "height": 282
        },
        "outputId": "9330ec3d-62c7-4fdb-c925-d583cfbb5188"
      },
      "source": [
        "x1 = np.linspace(-2, 2, 100)\n",
        "\n",
        "plt.plot(train_z[train_y == 1, 0], train_z[train_y == 1, 1], \"o\")\n",
        "plt.plot(train_z[train_y == 0, 0], train_z[train_y == 0, 1], \"x\")\n",
        "plt.plot(x1, -(theta[0] + theta[1] * x1) / theta[2], linestyle = \"dashed\")"
      ],
      "execution_count": 77,
      "outputs": [
        {
          "output_type": "execute_result",
          "data": {
            "text/plain": [
              "[<matplotlib.lines.Line2D at 0x7fae4d13d1d0>]"
            ]
          },
          "metadata": {
            "tags": []
          },
          "execution_count": 77
        },
        {
          "output_type": "display_data",
          "data": {
            "image/png": "[encoded data removed]",
            "text/plain": [
              "<Figure size 432x288 with 1 Axes>"
            ]
          },
          "metadata": {
            "tags": []
          }
        }
      ]
    },
    {
      "cell_type": "markdown",
      "metadata": {
        "id": "LCun8JvQayGw",
        "colab_type": "text"
      },
      "source": [
        "## 線形分離不可能な分類を実装する"
      ]
    },
    {
      "cell_type": "code",
      "metadata": {
        "id": "cQwHXJ8na6Nt",
        "colab_type": "code",
        "colab": {}
      },
      "source": [
        "# 学習データを読み込む\n",
        "train = np.loadtxt('./drive/My Drive/Colab Notebooks/機械学習を理解するための数学のきほん/data3.csv', delimiter=',', skiprows=1)\n",
        "train_x = train[:, 0:2]\n",
        "train_y = train[:,2]"
      ],
      "execution_count": 0,
      "outputs": []
    },
    {
      "cell_type": "code",
      "metadata": {
        "id": "yWmuUHLNbXn_",
        "colab_type": "code",
        "colab": {
          "base_uri": "https://localhost:8080/",
          "height": 282
        },
        "outputId": "ac5de387-e5ec-4568-89d5-3cc19853fdab"
      },
      "source": [
        "plt.plot(train_x[train_y == 1, 0], train_x[train_y == 1, 1], \"o\")\n",
        "plt.plot(train_x[train_y == 0, 0], train_x[train_y == 0, 1], \"x\")"
      ],
      "execution_count": 25,
      "outputs": [
        {
          "output_type": "execute_result",
          "data": {
            "text/plain": [
              "[<matplotlib.lines.Line2D at 0x7ff3c71a6e10>]"
            ]
          },
          "metadata": {
            "tags": []
          },
          "execution_count": 25
        },
        {
          "output_type": "display_data",
          "data": {
            "image/png": "[encoded data removed]",
            "text/plain": [
              "<Figure size 432x288 with 1 Axes>"
            ]
          },
          "metadata": {
            "tags": []
          }
        }
      ]
    },
    {
      "cell_type": "code",
      "metadata": {
        "id": "YS8noPylbtT1",
        "colab_type": "code",
        "colab": {}
      },
      "source": [
        "# パラメタを初期化\n",
        "theta = np.random.rand(4)\n",
        "\n",
        "# 標準化\n",
        "mu = train_x.mean(axis=0)\n",
        "sigma = train_x.std(axis=0)\n",
        "\n",
        "def standardize(x):\n",
        "  return (x - mu)/ sigma\n",
        "\n",
        "train_z = standardize(train_x)"
      ],
      "execution_count": 0,
      "outputs": []
    },
    {
      "cell_type": "code",
      "metadata": {
        "id": "tQ9pUToLcMrI",
        "colab_type": "code",
        "colab": {}
      },
      "source": [
        "# x0とx3を加える\n",
        "def to_matrix(x):\n",
        "  x0 = np.ones([x.shape[0], 1]) # (20, 1)\n",
        "  x3 = x[:, 0, np.newaxis]**2 # np.newaxisは新たな次元を追加するのに使う (20, 1)\n",
        "  return np.hstack([x0, x, x3])"
      ],
      "execution_count": 0,
      "outputs": []
    },
    {
      "cell_type": "code",
      "metadata": {
        "id": "ZyX593F4dUwN",
        "colab_type": "code",
        "colab": {}
      },
      "source": [
        "X = to_matrix(train_z)"
      ],
      "execution_count": 0,
      "outputs": []
    },
    {
      "cell_type": "code",
      "metadata": {
        "id": "28sV3Piogifz",
        "colab_type": "code",
        "colab": {
          "base_uri": "https://localhost:8080/",
          "height": 357
        },
        "outputId": "6d46e6f5-6915-4ec3-9347-c123c637416c"
      },
      "source": [
        "X"
      ],
      "execution_count": 32,
      "outputs": [
        {
          "output_type": "execute_result",
          "data": {
            "text/plain": [
              "array([[ 1.        , -0.44944473, -0.33683293,  0.20200057],\n",
              "       [ 1.        , -0.55531156,  1.159749  ,  0.30837093],\n",
              "       [ 1.        ,  1.44118758,  1.33672077,  2.07702165],\n",
              "       [ 1.        ,  0.73721961, -0.89894535,  0.54349276],\n",
              "       [ 1.        ,  1.24414813,  0.54901867,  1.54790456],\n",
              "       [ 1.        ,  0.38919528, -1.54626023,  0.15147297],\n",
              "       [ 1.        , -2.01242332,  0.02891696,  4.04984761],\n",
              "       [ 1.        , -1.21882399, -0.91761041,  1.48553193],\n",
              "       [ 1.        ,  1.26384764, -0.42276277,  1.59731086],\n",
              "       [ 1.        ,  0.69273399,  0.16624619,  0.47988039],\n",
              "       [ 1.        ,  0.39020134,  0.77730682,  0.15225709],\n",
              "       [ 1.        ,  1.56462593,  1.10316317,  2.4480543 ],\n",
              "       [ 1.        , -0.09212323, -1.98170949,  0.00848669],\n",
              "       [ 1.        , -0.78722946,  1.10107323,  0.61973022],\n",
              "       [ 1.        , -1.03197838,  0.77680451,  1.06497939],\n",
              "       [ 1.        ,  1.08275847, -0.21442519,  1.17236591],\n",
              "       [ 1.        , -1.02377639,  0.91442817,  1.0481181 ],\n",
              "       [ 1.        , -0.6292305 ,  0.13514816,  0.39593102],\n",
              "       [ 1.        , -0.23665749, -1.92425721,  0.05600677],\n",
              "       [ 1.        , -0.76891892,  0.19422794,  0.59123631]])"
            ]
          },
          "metadata": {
            "tags": []
          },
          "execution_count": 32
        }
      ]
    },
    {
      "cell_type": "code",
      "metadata": {
        "id": "egSJ3CG7dbp2",
        "colab_type": "code",
        "colab": {}
      },
      "source": [
        "# シグモイド関数\n",
        "def f(x):\n",
        "  return 1 / (1 + np.exp(-np.dot(x, theta)))\n",
        "\n",
        "# 学習率\n",
        "ETA = 1e-3\n",
        "\n",
        "# 繰り返し回数\n",
        "epoch = 5000\n",
        "\n",
        "# 学習を繰り返す\n",
        "for _ in range(epoch):\n",
        "  theta = theta - ETA * np.dot(f(X) - train_y, X)"
      ],
      "execution_count": 0,
      "outputs": []
    },
    {
      "cell_type": "code",
      "metadata": {
        "id": "6n0DYHk4iOJV",
        "colab_type": "code",
        "colab": {
          "base_uri": "https://localhost:8080/",
          "height": 282
        },
        "outputId": "f8957412-225f-42fd-b5c2-ddf59d73df65"
      },
      "source": [
        "x1 = np.linspace(-2, 2, 100)\n",
        "x2 = -(theta[0] + theta[1] * x1 + theta[3] * x1 ** 2) / theta[2]\n",
        "\n",
        "plt.plot(train_z[train_y == 1, 0], train_z[train_y == 1, 1], \"o\")\n",
        "plt.plot(train_z[train_y == 0, 0], train_z[train_y == 0, 1], \"x\")\n",
        "plt.plot(x1, x2, linestyle = \"dashed\")"
      ],
      "execution_count": 42,
      "outputs": [
        {
          "output_type": "execute_result",
          "data": {
            "text/plain": [
              "[<matplotlib.lines.Line2D at 0x7ff3c70d5a58>]"
            ]
          },
          "metadata": {
            "tags": []
          },
          "execution_count": 42
        },
        {
          "output_type": "display_data",
          "data": {
            "image/png": "[encoded data removed]",
            "text/plain": [
              "<Figure size 432x288 with 1 Axes>"
            ]
          },
          "metadata": {
            "tags": []
          }
        }
      ]
    },
    {
      "cell_type": "markdown",
      "metadata": {
        "id": "Ukpz7u-ejLPs",
        "colab_type": "text"
      },
      "source": [
        "### 精度の確認"
      ]
    },
    {
      "cell_type": "code",
      "metadata": {
        "id": "mmvyZ7nFjeWX",
        "colab_type": "code",
        "colab": {}
      },
      "source": [
        "# パラメタを初期化\n",
        "theta = np.random.rand(4)\n",
        "\n",
        "# 精度の履歴\n",
        "accuracies = []\n",
        "\n",
        "# 分類関数\n",
        "def classify(x):\n",
        "  return (f(X) >= 0.5).astype(np.int)\n",
        "\n",
        "# 学習を繰り返す\n",
        "for _ in range(epoch):\n",
        "  theta = theta  - ETA * np.dot(f(X) - train_y, X)\n",
        "  # 現在の精度を計算\n",
        "  result = classify(X) == train_y\n",
        "  accuracy = len(result[result == True]) / len(result)\n",
        "  accuracies.append(accuracy)"
      ],
      "execution_count": 0,
      "outputs": []
    },
    {
      "cell_type": "code",
      "metadata": {
        "id": "08upJEw_kqWI",
        "colab_type": "code",
        "colab": {
          "base_uri": "https://localhost:8080/",
          "height": 282
        },
        "outputId": "abab5020-3f29-4668-e777-a041a47b3c83"
      },
      "source": [
        "# 精度をプロット\n",
        "x = np.arange(len(accuracies))\n",
        "plt.plot(x, accuracies)"
      ],
      "execution_count": 46,
      "outputs": [
        {
          "output_type": "execute_result",
          "data": {
            "text/plain": [
              "[<matplotlib.lines.Line2D at 0x7ff3c798d5c0>]"
            ]
          },
          "metadata": {
            "tags": []
          },
          "execution_count": 46
        },
        {
          "output_type": "display_data",
          "data": {
            "image/png": "[encoded data removed]",
            "text/plain": [
              "<Figure size 432x288 with 1 Axes>"
            ]
          },
          "metadata": {
            "tags": []
          }
        }
      ]
    },
    {
      "cell_type": "markdown",
      "metadata": {
        "id": "gYODPBiskxQB",
        "colab_type": "text"
      },
      "source": [
        "### 確率的勾配降下法の実装"
      ]
    },
    {
      "cell_type": "code",
      "metadata": {
        "id": "32zv5bLNl174",
        "colab_type": "code",
        "colab": {}
      },
      "source": [
        "# パラメタを初期化\n",
        "theta = np.random.rand(4)\n",
        "\n",
        "# 学習を繰り返す\n",
        "for _ in range(epoch):\n",
        "  # 確率的勾配降下法でパラメタ更新\n",
        "  p = np.random.permutation(X.shape[0])\n",
        "  for x, y in zip(X[p, :], train_y[p]):\n",
        "    theta = theta - ETA * (f(x) - y) * x"
      ],
      "execution_count": 0,
      "outputs": []
    },
    {
      "cell_type": "code",
      "metadata": {
        "id": "wMrfO2eMo9QQ",
        "colab_type": "code",
        "colab": {
          "base_uri": "https://localhost:8080/",
          "height": 282
        },
        "outputId": "488aeb57-98ae-4bc3-99fd-abdb953ec3c1"
      },
      "source": [
        "x1 = np.linspace(-2, 2, 100)\n",
        "x2 = -(theta[0] + theta[1] * x1 + theta[3] * x1 ** 2) / theta[2]\n",
        "\n",
        "plt.plot(train_z[train_y == 1, 0], train_z[train_y == 1, 1], \"o\")\n",
        "plt.plot(train_z[train_y == 0, 0], train_z[train_y == 0, 1], \"x\")\n",
        "plt.plot(x1, x2, linestyle = \"dashed\")"
      ],
      "execution_count": 49,
      "outputs": [
        {
          "output_type": "execute_result",
          "data": {
            "text/plain": [
              "[<matplotlib.lines.Line2D at 0x7ff3c72081d0>]"
            ]
          },
          "metadata": {
            "tags": []
          },
          "execution_count": 49
        },
        {
          "output_type": "display_data",
          "data": {
            "image/png": "[encoded data removed]",
            "text/plain": [
              "<Figure size 432x288 with 1 Axes>"
            ]
          },
          "metadata": {
            "tags": []
          }
        }
      ]
    },
    {
      "cell_type": "markdown",
      "metadata": {
        "id": "ginTBGcsqK1k",
        "colab_type": "text"
      },
      "source": [
        "# 正則化\n",
        "## 学習データの確認"
      ]
    },
    {
      "cell_type": "code",
      "metadata": {
        "id": "J26UsTAGqLP3",
        "colab_type": "code",
        "colab": {
          "base_uri": "https://localhost:8080/",
          "height": 286
        },
        "outputId": "afebbba8-c170-46d6-edd9-67476da1210d"
      },
      "source": [
        "# 真の関数\n",
        "def g(x):\n",
        "  return 0.1 * (x**3 + x**2 + x)\n",
        "\n",
        "# 真の関数にノイズを加えた学習データを必要な数だけ用意する\n",
        "train_x = np.linspace(-2, 2, 8)\n",
        "train_y = g(train_x) + np.random.randn(train_x.size) * 0.05\n",
        "\n",
        "# プロットして確認\n",
        "x = np.linspace(-2, 2, 100)\n",
        "plt.plot(train_x, train_y, \"o\")\n",
        "plt.plot(x, g(x), linestyle = \"dashed\")\n",
        "plt.ylim(-1, 2)"
      ],
      "execution_count": 62,
      "outputs": [
        {
          "output_type": "execute_result",
          "data": {
            "text/plain": [
              "(-1.0, 2.0)"
            ]
          },
          "metadata": {
            "tags": []
          },
          "execution_count": 62
        },
        {
          "output_type": "display_data",
          "data": {
            "image/png": "[encoded data removed]",
            "text/plain": [
              "<Figure size 432x288 with 1 Axes>"
            ]
          },
          "metadata": {
            "tags": []
          }
        }
      ]
    },
    {
      "cell_type": "code",
      "metadata": {
        "id": "CBzI_d8srgBj",
        "colab_type": "code",
        "colab": {}
      },
      "source": [
        "# 10次の多項式で学習してみる\n",
        "# まずは学習データの行列を作って、予測関数を定義するまで\n",
        "\n",
        "# 標準化\n",
        "mu = train_x.mean()\n",
        "sigma = train_x.std()\n",
        "def standardize(x):\n",
        "  return (x - mu)/sigma\n",
        "\n",
        "train_z = standardize(train_x)"
      ],
      "execution_count": 0,
      "outputs": []
    },
    {
      "cell_type": "code",
      "metadata": {
        "id": "j8Mrv25VsKHN",
        "colab_type": "code",
        "colab": {}
      },
      "source": [
        "# 学習データの行列を作る\n",
        "def to_matrix(x):\n",
        "  return np.vstack([\n",
        "                    np.ones(x.size),\n",
        "                    x,\n",
        "                    x**2,\n",
        "                    x**3,\n",
        "                    x**4,\n",
        "                    x**5,\n",
        "                    x**6,\n",
        "                    x**7,\n",
        "                    x**8,\n",
        "                    x**9,\n",
        "                    x**10\n",
        "  ]).T"
      ],
      "execution_count": 0,
      "outputs": []
    },
    {
      "cell_type": "code",
      "metadata": {
        "id": "hKlVU9XBsr0_",
        "colab_type": "code",
        "colab": {}
      },
      "source": [
        "X = to_matrix(train_z)"
      ],
      "execution_count": 0,
      "outputs": []
    },
    {
      "cell_type": "code",
      "metadata": {
        "id": "8F19wIkWsv26",
        "colab_type": "code",
        "colab": {}
      },
      "source": [
        "# パラメタの初期化\n",
        "theta = np.random.randn(X.shape[1])\n",
        "\n",
        "# 予測関数\n",
        "def f(x):\n",
        "  return np.dot(x, theta)"
      ],
      "execution_count": 0,
      "outputs": []
    },
    {
      "cell_type": "markdown",
      "metadata": {
        "id": "c4tPeaOBtTiI",
        "colab_type": "text"
      },
      "source": [
        "## 正則化を適用しない実装"
      ]
    },
    {
      "cell_type": "code",
      "metadata": {
        "id": "He2qRk-rtW47",
        "colab_type": "code",
        "colab": {}
      },
      "source": [
        "# 目的関数\n",
        "def E(x, y):\n",
        "  return 0.5 * np.sum( (y - f(x))**2 )\n",
        "\n",
        "# 学習率\n",
        "ETA = 1e-4\n",
        "\n",
        "# 誤差\n",
        "diff = 1\n",
        "\n",
        "# 学習を繰り返す\n",
        "error = E(X, train_y)\n",
        "while diff > 1e-6:\n",
        "  theta = theta - ETA * np.dot( f(X) - train_y, X)\n",
        "  current_error = E(X, train_y)\n",
        "  diff = error - current_error\n",
        "  error = current_error"
      ],
      "execution_count": 0,
      "outputs": []
    },
    {
      "cell_type": "code",
      "metadata": {
        "id": "N3fWoWXrwbTX",
        "colab_type": "code",
        "colab": {
          "base_uri": "https://localhost:8080/",
          "height": 282
        },
        "outputId": "1ada7c1e-6baf-420f-b95b-46ebed974c51"
      },
      "source": [
        "# 結果をプロット\n",
        "z = standardize(x) # xは先程np.linspaceで作った目盛り\n",
        "plt.plot(train_z, train_y, \"o\")\n",
        "plt.plot(z, f(to_matrix(z)), linestyle = \"dashed\") # 曲線\n",
        "# 過学習が起きている状態"
      ],
      "execution_count": 72,
      "outputs": [
        {
          "output_type": "execute_result",
          "data": {
            "text/plain": [
              "[<matplotlib.lines.Line2D at 0x7ff3c6dc3080>]"
            ]
          },
          "metadata": {
            "tags": []
          },
          "execution_count": 72
        },
        {
          "output_type": "display_data",
          "data": {
            "image/png": "[encoded data removed]",
            "text/plain": [
              "<Figure size 432x288 with 1 Axes>"
            ]
          },
          "metadata": {
            "tags": []
          }
        }
      ]
    },
    {
      "cell_type": "markdown",
      "metadata": {
        "id": "oa5IbS4vw0f4",
        "colab_type": "text"
      },
      "source": [
        "## 正則化を適用した実装"
      ]
    },
    {
      "cell_type": "code",
      "metadata": {
        "id": "MQYtca1RxUxg",
        "colab_type": "code",
        "colab": {}
      },
      "source": [
        "# 正則化なしのパラメタを保存して再度パラメタを初期化\n",
        "theta1 = theta\n",
        "theta = np.random.randn(X.shape[1])\n",
        "\n",
        "# 正則化定数\n",
        "LAMBDA = 1\n",
        "\n",
        "# 誤差の差分\n",
        "diff = 1\n",
        "\n",
        "# 学習を繰り返す(正則化項つき)\n",
        "error = E(X, train_y)\n",
        "\n",
        "# 誤差の差分が1e-6以下になるまでパラメータ更新を繰り返す\n",
        "while diff > 1e-6:\n",
        "  # 正則化項。バイアス項は正則化を適用しないので0にする\n",
        "  reg_term = LAMBDA * np.hstack([ 0, theta[1:] ])\n",
        "  # 正則化項を適用してパラメタを更新する\n",
        "  theta = theta - ETA*(np.dot( f(X) - train_y, X ) + reg_term )\n",
        "  current_error = E(X, train_y)\n",
        "  diff = error - current_error\n",
        "  error = current_error"
      ],
      "execution_count": 0,
      "outputs": []
    },
    {
      "cell_type": "code",
      "metadata": {
        "id": "CVASEgwY0FTB",
        "colab_type": "code",
        "colab": {
          "base_uri": "https://localhost:8080/",
          "height": 282
        },
        "outputId": "4aade7e4-2f9c-4093-f097-36479cc4b288"
      },
      "source": [
        "# 結果をプロット\n",
        "plt.plot(train_z, train_y, \"o\")\n",
        "plt.plot(z, f(to_matrix(z)), linestyle = \"dashed\")"
      ],
      "execution_count": 79,
      "outputs": [
        {
          "output_type": "execute_result",
          "data": {
            "text/plain": [
              "[<matplotlib.lines.Line2D at 0x7ff3c6cb0f98>]"
            ]
          },
          "metadata": {
            "tags": []
          },
          "execution_count": 79
        },
        {
          "output_type": "display_data",
          "data": {
            "image/png": "[encoded data removed]",
            "text/plain": [
              "<Figure size 432x288 with 1 Axes>"
            ]
          },
          "metadata": {
            "tags": []
          }
        }
      ]
    },
    {
      "cell_type": "code",
      "metadata": {
        "id": "6zqpo9NOyQii",
        "colab_type": "code",
        "colab": {
          "base_uri": "https://localhost:8080/",
          "height": 282
        },
        "outputId": "065dfb54-1232-4a72-a15a-f46617fd6804"
      },
      "source": [
        "# 正則化ありのパラメタを保存\n",
        "theta2 = theta\n",
        "\n",
        "plt.plot(train_z, train_y, \"o\")\n",
        "\n",
        "# 正則化なしの結果をプロット\n",
        "theta = theta1\n",
        "plt.plot(z, f(to_matrix(z)), linestyle=\"dashed\")\n",
        "\n",
        "# 正則化ありの結果をプロット\n",
        "theta = theta2\n",
        "plt.plot(z, f(to_matrix(z)))"
      ],
      "execution_count": 80,
      "outputs": [
        {
          "output_type": "execute_result",
          "data": {
            "text/plain": [
              "[<matplotlib.lines.Line2D at 0x7ff3c6c5d320>]"
            ]
          },
          "metadata": {
            "tags": []
          },
          "execution_count": 80
        },
        {
          "output_type": "display_data",
          "data": {
            "image/png": "[encoded data removed]",
            "text/plain": [
              "<Figure size 432x288 with 1 Axes>"
            ]
          },
          "metadata": {
            "tags": []
          }
        }
      ]
    },
    {
      "cell_type": "code",
      "metadata": {
        "id": "OjfoI0wjyog1",
        "colab_type": "code",
        "colab": {
          "base_uri": "https://localhost:8080/",
          "height": 34
        },
        "outputId": "f7709f50-e500-4394-c6ce-c612b6450ff9"
      },
      "source": [
        "np.hstack( [5, np.arange(1, 8)] )"
      ],
      "execution_count": 76,
      "outputs": [
        {
          "output_type": "execute_result",
          "data": {
            "text/plain": [
              "array([5, 1, 2, 3, 4, 5, 6, 7])"
            ]
          },
          "metadata": {
            "tags": []
          },
          "execution_count": 76
        }
      ]
    }
  ]
}